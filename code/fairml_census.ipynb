{
 "cells": [
  {
   "attachments": {},
   "cell_type": "markdown",
   "metadata": {},
   "source": [
    "# Explainable & fair machine learning - Dutch census\n",
    "\n",
    "This notebook uses the dataset *Dutch census*, available from [GitHub](https://github.com/alku7660/counterfactual-fairness), to build and inspect machine learning models using [sklearn](https://scikit-learn.org/) and [fairlearn](https://fairlearn.org/).\n",
    "\n",
    "This notebook is part of the tutorial **A hands-on tutorial on explainable methods for machine learning with Python: applications to gender bias**, 3rd EuADS Summer School – Data Science for Explainable and Trustworthy AI (7-9 June 2023)\n",
    "\n",
    "Author: Aurora Ramírez (University of Córdoba)"
   ]
  },
  {
   "attachments": {},
   "cell_type": "markdown",
   "metadata": {},
   "source": [
    "## Methodology\n",
    "\n",
    "The following steps will be done to train and test machine learning algorithms using the dataset:\n",
    "\n",
    "1. Preprocessing data:\n",
    "    - Load and clean the data\n",
    "    - Prepare the dataset for training (conversion and split)\n",
    "2. Learning from data without fairness awareness:\n",
    "    - Train a classifier (GradientBoostingClassifier) for the complete dataset\n",
    "    - Test the classifier in terms of performance and bias\n",
    "    - Inspect the feature importances of the classifier (global explanation)\n",
    "3. Use mitigation methods to reduce gender bias\n",
    "    - Apply a postprocessing method to the classifier\n",
    "    - Apply a mitigation method during training\n",
    "4. Explaining predictions:\n",
    "    - Inspect feature contributions for some test samples (local explanation)\n",
    "5. Exploring what-if scenarios \n",
    "    - Provide recommendations for people classified as \"low level\" occupation (counterfactual explanation)"
   ]
  },
  {
   "attachments": {},
   "cell_type": "markdown",
   "metadata": {},
   "source": [
    "## Preprocessing data"
   ]
  },
  {
   "attachments": {},
   "cell_type": "markdown",
   "metadata": {},
   "source": [
    "### Library imports"
   ]
  },
  {
   "cell_type": "code",
   "execution_count": 3,
   "metadata": {},
   "outputs": [],
   "source": [
    "import numpy as np\n",
    "import pandas as pd\n",
    "from sklearn.model_selection import train_test_split\n",
    "from sklearn.ensemble import GradientBoostingClassifier\n",
    "from sklearn.metrics import confusion_matrix\n",
    "from fairlearn.metrics import MetricFrame\n",
    "from fairlearn.metrics import (\n",
    "    count,\n",
    "    selection_rate,\n",
    "    equalized_odds_difference,\n",
    "    false_positive_rate,\n",
    "    false_negative_rate,\n",
    ")\n",
    "from fairlearn.postprocessing import ThresholdOptimizer\n",
    "from fairlearn.reductions import ExponentiatedGradient\n",
    "from fairlearn.reductions import EqualizedOdds\n",
    "import dalex as dx\n",
    "import dice_ml"
   ]
  },
  {
   "cell_type": "code",
   "execution_count": 4,
   "metadata": {},
   "outputs": [],
   "source": [
    "from ml_plots import make_confusion_matrix\n",
    "from ml_plots import make_feature_importance_plot\n",
    "import ml_performance as mlp\n",
    "import xai_utils as xai"
   ]
  },
  {
   "cell_type": "code",
   "execution_count": 5,
   "metadata": {},
   "outputs": [],
   "source": [
    "import warnings\n",
    "warnings.simplefilter(\"ignore\")"
   ]
  },
  {
   "attachments": {},
   "cell_type": "markdown",
   "metadata": {},
   "source": [
    "### Load data"
   ]
  },
  {
   "cell_type": "code",
   "execution_count": 6,
   "metadata": {},
   "outputs": [],
   "source": [
    "data = pd.read_csv('../data/dutch_census.csv', index_col=0)"
   ]
  },
  {
   "cell_type": "code",
   "execution_count": 7,
   "metadata": {},
   "outputs": [],
   "source": [
    "# Set features of interest\n",
    "target_feat = 'Occupation'\n",
    "gender_feat = 'Sex'"
   ]
  },
  {
   "attachments": {},
   "cell_type": "markdown",
   "metadata": {},
   "source": [
    "### Convert to numeric data"
   ]
  },
  {
   "cell_type": "code",
   "execution_count": 8,
   "metadata": {},
   "outputs": [
    {
     "data": {
      "text/html": [
       "<div>\n",
       "<style scoped>\n",
       "    .dataframe tbody tr th:only-of-type {\n",
       "        vertical-align: middle;\n",
       "    }\n",
       "\n",
       "    .dataframe tbody tr th {\n",
       "        vertical-align: top;\n",
       "    }\n",
       "\n",
       "    .dataframe thead th {\n",
       "        text-align: right;\n",
       "    }\n",
       "</style>\n",
       "<table border=\"1\" class=\"dataframe\">\n",
       "  <thead>\n",
       "    <tr style=\"text-align: right;\">\n",
       "      <th></th>\n",
       "      <th>Sex</th>\n",
       "      <th>Age</th>\n",
       "      <th>Occupation</th>\n",
       "      <th>EducationLevel_1</th>\n",
       "      <th>EducationLevel_2</th>\n",
       "      <th>EducationLevel_3</th>\n",
       "      <th>EducationLevel_4</th>\n",
       "      <th>EducationLevel_5</th>\n",
       "      <th>EducationLevel_6</th>\n",
       "      <th>HouseholdPosition_1</th>\n",
       "      <th>...</th>\n",
       "      <th>CurEcoActivity_7</th>\n",
       "      <th>CurEcoActivity_8</th>\n",
       "      <th>CurEcoActivity_9</th>\n",
       "      <th>CurEcoActivity_10</th>\n",
       "      <th>CurEcoActivity_11</th>\n",
       "      <th>CurEcoActivity_12</th>\n",
       "      <th>MaritalStatus_1</th>\n",
       "      <th>MaritalStatus_2</th>\n",
       "      <th>MaritalStatus_3</th>\n",
       "      <th>MaritalStatus_4</th>\n",
       "    </tr>\n",
       "  </thead>\n",
       "  <tbody>\n",
       "    <tr>\n",
       "      <th>0</th>\n",
       "      <td>1</td>\n",
       "      <td>18</td>\n",
       "      <td>0</td>\n",
       "      <td>0</td>\n",
       "      <td>0</td>\n",
       "      <td>0</td>\n",
       "      <td>0</td>\n",
       "      <td>0</td>\n",
       "      <td>1</td>\n",
       "      <td>1</td>\n",
       "      <td>...</td>\n",
       "      <td>0</td>\n",
       "      <td>0</td>\n",
       "      <td>0</td>\n",
       "      <td>0</td>\n",
       "      <td>0</td>\n",
       "      <td>0</td>\n",
       "      <td>1</td>\n",
       "      <td>0</td>\n",
       "      <td>0</td>\n",
       "      <td>0</td>\n",
       "    </tr>\n",
       "    <tr>\n",
       "      <th>1</th>\n",
       "      <td>0</td>\n",
       "      <td>32</td>\n",
       "      <td>1</td>\n",
       "      <td>0</td>\n",
       "      <td>0</td>\n",
       "      <td>1</td>\n",
       "      <td>0</td>\n",
       "      <td>0</td>\n",
       "      <td>0</td>\n",
       "      <td>0</td>\n",
       "      <td>...</td>\n",
       "      <td>0</td>\n",
       "      <td>0</td>\n",
       "      <td>0</td>\n",
       "      <td>0</td>\n",
       "      <td>0</td>\n",
       "      <td>0</td>\n",
       "      <td>0</td>\n",
       "      <td>1</td>\n",
       "      <td>0</td>\n",
       "      <td>0</td>\n",
       "    </tr>\n",
       "    <tr>\n",
       "      <th>2</th>\n",
       "      <td>1</td>\n",
       "      <td>22</td>\n",
       "      <td>0</td>\n",
       "      <td>0</td>\n",
       "      <td>0</td>\n",
       "      <td>1</td>\n",
       "      <td>0</td>\n",
       "      <td>0</td>\n",
       "      <td>0</td>\n",
       "      <td>0</td>\n",
       "      <td>...</td>\n",
       "      <td>0</td>\n",
       "      <td>0</td>\n",
       "      <td>0</td>\n",
       "      <td>0</td>\n",
       "      <td>0</td>\n",
       "      <td>0</td>\n",
       "      <td>0</td>\n",
       "      <td>1</td>\n",
       "      <td>0</td>\n",
       "      <td>0</td>\n",
       "    </tr>\n",
       "    <tr>\n",
       "      <th>3</th>\n",
       "      <td>1</td>\n",
       "      <td>42</td>\n",
       "      <td>1</td>\n",
       "      <td>0</td>\n",
       "      <td>1</td>\n",
       "      <td>0</td>\n",
       "      <td>0</td>\n",
       "      <td>0</td>\n",
       "      <td>0</td>\n",
       "      <td>0</td>\n",
       "      <td>...</td>\n",
       "      <td>0</td>\n",
       "      <td>0</td>\n",
       "      <td>0</td>\n",
       "      <td>0</td>\n",
       "      <td>0</td>\n",
       "      <td>0</td>\n",
       "      <td>0</td>\n",
       "      <td>1</td>\n",
       "      <td>0</td>\n",
       "      <td>0</td>\n",
       "    </tr>\n",
       "    <tr>\n",
       "      <th>4</th>\n",
       "      <td>0</td>\n",
       "      <td>59</td>\n",
       "      <td>1</td>\n",
       "      <td>0</td>\n",
       "      <td>0</td>\n",
       "      <td>1</td>\n",
       "      <td>0</td>\n",
       "      <td>0</td>\n",
       "      <td>0</td>\n",
       "      <td>0</td>\n",
       "      <td>...</td>\n",
       "      <td>0</td>\n",
       "      <td>0</td>\n",
       "      <td>0</td>\n",
       "      <td>0</td>\n",
       "      <td>0</td>\n",
       "      <td>0</td>\n",
       "      <td>1</td>\n",
       "      <td>0</td>\n",
       "      <td>0</td>\n",
       "      <td>0</td>\n",
       "    </tr>\n",
       "    <tr>\n",
       "      <th>...</th>\n",
       "      <td>...</td>\n",
       "      <td>...</td>\n",
       "      <td>...</td>\n",
       "      <td>...</td>\n",
       "      <td>...</td>\n",
       "      <td>...</td>\n",
       "      <td>...</td>\n",
       "      <td>...</td>\n",
       "      <td>...</td>\n",
       "      <td>...</td>\n",
       "      <td>...</td>\n",
       "      <td>...</td>\n",
       "      <td>...</td>\n",
       "      <td>...</td>\n",
       "      <td>...</td>\n",
       "      <td>...</td>\n",
       "      <td>...</td>\n",
       "      <td>...</td>\n",
       "      <td>...</td>\n",
       "      <td>...</td>\n",
       "      <td>...</td>\n",
       "    </tr>\n",
       "    <tr>\n",
       "      <th>60415</th>\n",
       "      <td>1</td>\n",
       "      <td>32</td>\n",
       "      <td>0</td>\n",
       "      <td>0</td>\n",
       "      <td>0</td>\n",
       "      <td>0</td>\n",
       "      <td>1</td>\n",
       "      <td>0</td>\n",
       "      <td>0</td>\n",
       "      <td>0</td>\n",
       "      <td>...</td>\n",
       "      <td>0</td>\n",
       "      <td>0</td>\n",
       "      <td>0</td>\n",
       "      <td>0</td>\n",
       "      <td>0</td>\n",
       "      <td>0</td>\n",
       "      <td>0</td>\n",
       "      <td>1</td>\n",
       "      <td>0</td>\n",
       "      <td>0</td>\n",
       "    </tr>\n",
       "    <tr>\n",
       "      <th>60416</th>\n",
       "      <td>0</td>\n",
       "      <td>16</td>\n",
       "      <td>1</td>\n",
       "      <td>0</td>\n",
       "      <td>0</td>\n",
       "      <td>0</td>\n",
       "      <td>0</td>\n",
       "      <td>0</td>\n",
       "      <td>1</td>\n",
       "      <td>0</td>\n",
       "      <td>...</td>\n",
       "      <td>0</td>\n",
       "      <td>0</td>\n",
       "      <td>0</td>\n",
       "      <td>0</td>\n",
       "      <td>0</td>\n",
       "      <td>0</td>\n",
       "      <td>1</td>\n",
       "      <td>0</td>\n",
       "      <td>0</td>\n",
       "      <td>0</td>\n",
       "    </tr>\n",
       "    <tr>\n",
       "      <th>60417</th>\n",
       "      <td>1</td>\n",
       "      <td>37</td>\n",
       "      <td>0</td>\n",
       "      <td>0</td>\n",
       "      <td>0</td>\n",
       "      <td>0</td>\n",
       "      <td>0</td>\n",
       "      <td>0</td>\n",
       "      <td>1</td>\n",
       "      <td>0</td>\n",
       "      <td>...</td>\n",
       "      <td>0</td>\n",
       "      <td>0</td>\n",
       "      <td>0</td>\n",
       "      <td>0</td>\n",
       "      <td>0</td>\n",
       "      <td>0</td>\n",
       "      <td>0</td>\n",
       "      <td>1</td>\n",
       "      <td>0</td>\n",
       "      <td>0</td>\n",
       "    </tr>\n",
       "    <tr>\n",
       "      <th>60418</th>\n",
       "      <td>0</td>\n",
       "      <td>21</td>\n",
       "      <td>0</td>\n",
       "      <td>0</td>\n",
       "      <td>0</td>\n",
       "      <td>0</td>\n",
       "      <td>0</td>\n",
       "      <td>0</td>\n",
       "      <td>1</td>\n",
       "      <td>1</td>\n",
       "      <td>...</td>\n",
       "      <td>0</td>\n",
       "      <td>0</td>\n",
       "      <td>0</td>\n",
       "      <td>0</td>\n",
       "      <td>0</td>\n",
       "      <td>0</td>\n",
       "      <td>1</td>\n",
       "      <td>0</td>\n",
       "      <td>0</td>\n",
       "      <td>0</td>\n",
       "    </tr>\n",
       "    <tr>\n",
       "      <th>60419</th>\n",
       "      <td>1</td>\n",
       "      <td>42</td>\n",
       "      <td>0</td>\n",
       "      <td>0</td>\n",
       "      <td>0</td>\n",
       "      <td>0</td>\n",
       "      <td>0</td>\n",
       "      <td>0</td>\n",
       "      <td>1</td>\n",
       "      <td>0</td>\n",
       "      <td>...</td>\n",
       "      <td>0</td>\n",
       "      <td>0</td>\n",
       "      <td>0</td>\n",
       "      <td>0</td>\n",
       "      <td>0</td>\n",
       "      <td>0</td>\n",
       "      <td>0</td>\n",
       "      <td>1</td>\n",
       "      <td>0</td>\n",
       "      <td>0</td>\n",
       "    </tr>\n",
       "  </tbody>\n",
       "</table>\n",
       "<p>60420 rows × 45 columns</p>\n",
       "</div>"
      ],
      "text/plain": [
       "       Sex  Age  Occupation  EducationLevel_1  EducationLevel_2  \\\n",
       "0        1   18           0                 0                 0   \n",
       "1        0   32           1                 0                 0   \n",
       "2        1   22           0                 0                 0   \n",
       "3        1   42           1                 0                 1   \n",
       "4        0   59           1                 0                 0   \n",
       "...    ...  ...         ...               ...               ...   \n",
       "60415    1   32           0                 0                 0   \n",
       "60416    0   16           1                 0                 0   \n",
       "60417    1   37           0                 0                 0   \n",
       "60418    0   21           0                 0                 0   \n",
       "60419    1   42           0                 0                 0   \n",
       "\n",
       "       EducationLevel_3  EducationLevel_4  EducationLevel_5  EducationLevel_6  \\\n",
       "0                     0                 0                 0                 1   \n",
       "1                     1                 0                 0                 0   \n",
       "2                     1                 0                 0                 0   \n",
       "3                     0                 0                 0                 0   \n",
       "4                     1                 0                 0                 0   \n",
       "...                 ...               ...               ...               ...   \n",
       "60415                 0                 1                 0                 0   \n",
       "60416                 0                 0                 0                 1   \n",
       "60417                 0                 0                 0                 1   \n",
       "60418                 0                 0                 0                 1   \n",
       "60419                 0                 0                 0                 1   \n",
       "\n",
       "       HouseholdPosition_1  ...  CurEcoActivity_7  CurEcoActivity_8  \\\n",
       "0                        1  ...                 0                 0   \n",
       "1                        0  ...                 0                 0   \n",
       "2                        0  ...                 0                 0   \n",
       "3                        0  ...                 0                 0   \n",
       "4                        0  ...                 0                 0   \n",
       "...                    ...  ...               ...               ...   \n",
       "60415                    0  ...                 0                 0   \n",
       "60416                    0  ...                 0                 0   \n",
       "60417                    0  ...                 0                 0   \n",
       "60418                    1  ...                 0                 0   \n",
       "60419                    0  ...                 0                 0   \n",
       "\n",
       "       CurEcoActivity_9  CurEcoActivity_10  CurEcoActivity_11  \\\n",
       "0                     0                  0                  0   \n",
       "1                     0                  0                  0   \n",
       "2                     0                  0                  0   \n",
       "3                     0                  0                  0   \n",
       "4                     0                  0                  0   \n",
       "...                 ...                ...                ...   \n",
       "60415                 0                  0                  0   \n",
       "60416                 0                  0                  0   \n",
       "60417                 0                  0                  0   \n",
       "60418                 0                  0                  0   \n",
       "60419                 0                  0                  0   \n",
       "\n",
       "       CurEcoActivity_12  MaritalStatus_1  MaritalStatus_2  MaritalStatus_3  \\\n",
       "0                      0                1                0                0   \n",
       "1                      0                0                1                0   \n",
       "2                      0                0                1                0   \n",
       "3                      0                0                1                0   \n",
       "4                      0                1                0                0   \n",
       "...                  ...              ...              ...              ...   \n",
       "60415                  0                0                1                0   \n",
       "60416                  0                1                0                0   \n",
       "60417                  0                0                1                0   \n",
       "60418                  0                1                0                0   \n",
       "60419                  0                0                1                0   \n",
       "\n",
       "       MaritalStatus_4  \n",
       "0                    0  \n",
       "1                    0  \n",
       "2                    0  \n",
       "3                    0  \n",
       "4                    0  \n",
       "...                ...  \n",
       "60415                0  \n",
       "60416                0  \n",
       "60417                0  \n",
       "60418                0  \n",
       "60419                0  \n",
       "\n",
       "[60420 rows x 45 columns]"
      ]
     },
     "metadata": {},
     "output_type": "display_data"
    }
   ],
   "source": [
    "# Force categorical features\n",
    "categorical_features = ['EducationLevel', 'HouseholdPosition', 'HouseholdSize', 'Country', 'EconomicStatus', 'CurEcoActivity', 'MaritalStatus']\n",
    "for c in categorical_features:\n",
    "    data[c] = data[c].astype('category')\n",
    "\n",
    "# Convert types for binary columns\n",
    "data['Sex'].replace([2], [0], inplace=True) # 1: Male, 2: Female (change to 0)\n",
    "\n",
    "# For other features with more than 2 categories, use one-hot-encoding\n",
    "data_non_num = data.select_dtypes(exclude=['int', 'float', 'bool'])\n",
    "col_names = data_non_num.columns.values\n",
    "dummies = pd.get_dummies(data[col_names], dtype='int')\n",
    "data.drop(columns=col_names, inplace=True)\n",
    "data = data.join(dummies)\n",
    "display(data)\n"
   ]
  },
  {
   "attachments": {},
   "cell_type": "markdown",
   "metadata": {},
   "source": [
    "### Split in train/test"
   ]
  },
  {
   "cell_type": "code",
   "execution_count": 9,
   "metadata": {},
   "outputs": [
    {
     "name": "stdout",
     "output_type": "stream",
     "text": [
      "Train -> female: 20224, male: 20257, female (high): 67.2%, male (high): 37.61%\n",
      "Test -> female: 10049, male: 9890, female (high): 67.46%, male (high): 37.09%\n"
     ]
    }
   ],
   "source": [
    "# Train and test partition, stratified by target attribute\n",
    "target_values = data[target_feat]\n",
    "df_train, df_test, y_train, y_test = train_test_split(data,\n",
    "                                                    target_values,\n",
    "                                                    test_size=0.33,\n",
    "                                                    random_state=0,\n",
    "                                                    stratify=target_values)\n",
    "x_train = df_train.drop(target_feat, axis=1)\n",
    "x_test = df_test.drop(target_feat, axis=1)\n",
    "\n",
    "# Some statistics\n",
    "num_fem_train = df_train[df_train[gender_feat]==0].shape[0]\n",
    "num_male_train = df_train[df_train[gender_feat]==1].shape[0]\n",
    "perc_fem_train_high = np.round(df_train[(df_train[gender_feat]==0) & (df_train[target_feat]==1)].shape[0] / num_fem_train *100, decimals=2)\n",
    "perc_male_train_high = np.round(df_train[(df_train[gender_feat]==1) & (df_train[target_feat]==1)].shape[0] / num_male_train *100, decimals=2)\n",
    "\n",
    "print(f\"Train -> female: {num_fem_train}, male: {num_male_train}, female (high): {perc_fem_train_high}%, male (high): {perc_male_train_high}%\")\n",
    "\n",
    "num_fem_test = df_test[df_test[gender_feat]==0].shape[0]\n",
    "num_male_test = df_test[df_test[gender_feat]==1].shape[0]\n",
    "perc_fem_test_promoted = np.round(df_test[(df_test[gender_feat]==0) & (df_test[target_feat]==1)].shape[0] / num_fem_test *100, decimals=2)\n",
    "perc_male_test_promoted = np.round(df_test[(df_test[gender_feat]==1) & (df_test[target_feat]==1)].shape[0] / num_male_test *100, decimals=2)\n",
    "print(f\"Test -> female: {num_fem_test}, male: {num_male_test}, female (high): {perc_fem_test_promoted}%, male (high): {perc_male_test_promoted}%\")\n"
   ]
  },
  {
   "attachments": {},
   "cell_type": "markdown",
   "metadata": {},
   "source": [
    "## Learning from data without fairness awareness"
   ]
  },
  {
   "attachments": {},
   "cell_type": "markdown",
   "metadata": {},
   "source": [
    "### Train and evalaute a classifier using sklearn"
   ]
  },
  {
   "cell_type": "code",
   "execution_count": 10,
   "metadata": {},
   "outputs": [],
   "source": [
    "# Train and test the model\n",
    "clf = GradientBoostingClassifier(random_state=0)\n",
    "model_sklearn = clf.fit(x_train, y_train)\n",
    "y_pred_sklearn = model_sklearn.predict(x_test)"
   ]
  },
  {
   "cell_type": "code",
   "execution_count": 11,
   "metadata": {},
   "outputs": [
    {
     "data": {
      "image/png": "[encoded data removed]",
      "text/plain": [
       "<Figure size 640x480 with 2 Axes>"
      ]
     },
     "metadata": {},
     "output_type": "display_data"
    }
   ],
   "source": [
    "# Performance measures\n",
    "cf_matrix = confusion_matrix(y_test, y_pred_sklearn)\n",
    "make_confusion_matrix(cf_matrix)"
   ]
  },
  {
   "cell_type": "code",
   "execution_count": 12,
   "metadata": {},
   "outputs": [
    {
     "name": "stdout",
     "output_type": "stream",
     "text": [
      "TP (female): 6351, percentage (all female in test): 63.2%\n",
      "TP (male): 2525, percentage (all male in test): 25.53%\n"
     ]
    }
   ],
   "source": [
    "# Inspecting TP by gender\n",
    "df_tp = mlp.get_tp(df_test, y_test, y_pred_sklearn)\n",
    "\n",
    "num_tp_fem = df_tp[df_tp[gender_feat]==0].shape[0]\n",
    "perc_tp_fem = np.round(num_tp_fem / num_fem_test * 100, decimals=2)\n",
    "num_tp_male = df_tp[df_tp[gender_feat]==1].shape[0]\n",
    "perc_tp_male = np.round(num_tp_male / num_male_test * 100, decimals=2)\n",
    "\n",
    "print(f\"TP (female): {num_tp_fem}, percentage (all female in test): {perc_tp_fem}%\")\n",
    "print(f\"TP (male): {num_tp_male}, percentage (all male in test): {perc_tp_male}%\")"
   ]
  },
  {
   "cell_type": "code",
   "execution_count": 13,
   "metadata": {},
   "outputs": [
    {
     "name": "stdout",
     "output_type": "stream",
     "text": [
      "FP (female): 820, percentage (all female in test): 8.16%\n",
      "FP (male): 858, percentage (all male in test): 8.68%\n"
     ]
    }
   ],
   "source": [
    "# Inspecting FP errors by gender\n",
    "df_fp = mlp.get_fp(df_test, y_test, y_pred_sklearn)\n",
    "\n",
    "num_fp_fem = df_fp[df_fp[gender_feat]==0].shape[0]\n",
    "perc_fp_fem = np.round(num_fp_fem / num_fem_test * 100, decimals=2)\n",
    "num_fp_male = df_fp[df_fp[gender_feat]==1].shape[0]\n",
    "perc_fp_male = np.round(num_fp_male / num_male_test * 100, decimals=2)\n",
    "\n",
    "print(f\"FP (female): {num_fp_fem}, percentage (all female in test): {perc_fp_fem}%\")\n",
    "print(f\"FP (male): {num_fp_male}, percentage (all male in test): {perc_fp_male}%\")"
   ]
  },
  {
   "cell_type": "code",
   "execution_count": 14,
   "metadata": {},
   "outputs": [
    {
     "name": "stdout",
     "output_type": "stream",
     "text": [
      "TN (female): 2450, percentage (all female in test): 24.38%\n",
      "TN (male): 5364, percentage (all male in test): 54.24%\n"
     ]
    }
   ],
   "source": [
    "# Inspecting TN by gender\n",
    "df_tn = mlp.get_tn(df_test, y_test, y_pred_sklearn)\n",
    "num_tn_fem = df_tn[df_tn[gender_feat]==0].shape[0]\n",
    "perc_tn_fem = np.round(num_tn_fem / num_fem_test * 100, decimals=2)\n",
    "num_tn_male = df_tn[df_tn[gender_feat]==1].shape[0]\n",
    "perc_tn_male = np.round(num_tn_male / num_male_test * 100, decimals=2)\n",
    "\n",
    "print(f\"TN (female): {num_tn_fem}, percentage (all female in test): {perc_tn_fem}%\")\n",
    "print(f\"TN (male): {num_tn_male}, percentage (all male in test): {perc_tn_male}%\")"
   ]
  },
  {
   "cell_type": "code",
   "execution_count": 15,
   "metadata": {},
   "outputs": [
    {
     "name": "stdout",
     "output_type": "stream",
     "text": [
      "FN (female): 428, percentage (all female in test): 4.26%\n",
      "FN (male): 1143, percentage (all male in test): 11.56%\n"
     ]
    }
   ],
   "source": [
    "# Inspecting FN errors by gender\n",
    "df_fn = mlp.get_fn(df_test, y_test, y_pred_sklearn)\n",
    "num_fn_fem = df_fn[df_fn[gender_feat]==0].shape[0]\n",
    "perc_fn_fem = np.round(num_fn_fem / num_fem_test * 100, decimals=2)\n",
    "num_fn_male = df_fn[df_fn[gender_feat]==1].shape[0]\n",
    "perc_fn_male = np.round(num_fn_male / num_male_test * 100, decimals=2)\n",
    "\n",
    "print(f\"FN (female): {num_fn_fem}, percentage (all female in test): {perc_fn_fem}%\")\n",
    "print(f\"FN (male): {num_fn_male}, percentage (all male in test): {perc_fn_male}%\")"
   ]
  },
  {
   "attachments": {},
   "cell_type": "markdown",
   "metadata": {},
   "source": [
    "### Fairness assessment with fairlearn metrics"
   ]
  },
  {
   "cell_type": "code",
   "execution_count": 16,
   "metadata": {},
   "outputs": [],
   "source": [
    "# Define a subset of metrics\n",
    "fairness_metrics = {\n",
    "    \"count\": count,\n",
    "    \"selection_rate\": selection_rate,\n",
    "    \"false_positive_rate\": false_positive_rate,\n",
    "    \"false_negative_rate\": false_negative_rate,\n",
    "}"
   ]
  },
  {
   "cell_type": "code",
   "execution_count": 17,
   "metadata": {},
   "outputs": [
    {
     "name": "stdout",
     "output_type": "stream",
     "text": [
      "== Metrics by gender ==\n",
      "       count  selection_rate  false_positive_rate  false_negative_rate\n",
      "Sex                                                                   \n",
      "0    10049.0        0.713603             0.250765             0.063136\n",
      "1     9890.0        0.342063             0.137898             0.311614\n",
      "== Metric differences ==\n",
      "count                  159.000000\n",
      "selection_rate           0.371541\n",
      "false_positive_rate      0.112867\n",
      "false_negative_rate      0.248478\n",
      "dtype: float64\n",
      "== Overall metrics ==\n",
      "count                  19939.000000\n",
      "selection_rate             0.529314\n",
      "false_positive_rate        0.176780\n",
      "false_negative_rate        0.150378\n",
      "dtype: float64\n"
     ]
    }
   ],
   "source": [
    "# Get the metrics by group (sensitive feature), difference between groups and overall\n",
    "metricframe_unmitigated = MetricFrame(\n",
    "    metrics=fairness_metrics,\n",
    "    y_true=y_test,\n",
    "    y_pred=y_pred_sklearn,\n",
    "    sensitive_features=df_test[gender_feat]\n",
    ")\n",
    "print('== Metrics by gender ==')\n",
    "print(metricframe_unmitigated.by_group)\n",
    "\n",
    "print('== Metric differences ==')\n",
    "print(metricframe_unmitigated.difference())\n",
    "\n",
    "print('== Overall metrics ==')\n",
    "print(metricframe_unmitigated.overall)"
   ]
  },
  {
   "cell_type": "code",
   "execution_count": 18,
   "metadata": {},
   "outputs": [
    {
     "name": "stdout",
     "output_type": "stream",
     "text": [
      "Equalized odds difference (sklearn): 0.24847780278533538\n"
     ]
    }
   ],
   "source": [
    "# This metric obtains the greater of two metrics: true_positive_rate_difference and false_positive_rate_difference\n",
    "# If the metric is equal to 0, all groups have the same TP/TN/FP/FN rates (totally fair).\n",
    "eod_sklearn = equalized_odds_difference(y_true=y_test, y_pred=y_pred_sklearn, sensitive_features=df_test[gender_feat])\n",
    "print(f\"Equalized odds difference (sklearn): {eod_sklearn}\")\n"
   ]
  },
  {
   "attachments": {},
   "cell_type": "markdown",
   "metadata": {},
   "source": [
    "### Feature importance (global explanation)"
   ]
  },
  {
   "cell_type": "code",
   "execution_count": 19,
   "metadata": {},
   "outputs": [
    {
     "data": {
      "image/png": "[encoded data removed]",
      "text/plain": [
       "<Figure size 640x480 with 1 Axes>"
      ]
     },
     "metadata": {},
     "output_type": "display_data"
    }
   ],
   "source": [
    "# 10 most important features for prediction\n",
    "make_feature_importance_plot(model_sklearn, x_test, y_test, model_sklearn.feature_names_in_, 10)"
   ]
  },
  {
   "attachments": {},
   "cell_type": "markdown",
   "metadata": {},
   "source": [
    "## Mitigating classifier gender bias with fairlearn\n",
    "\n",
    "### Mitigating gender bias after training\n",
    "We can use a post-processing method from the fairlearn library to mitigate gender bias after prediction. The [ThresholdOptimizer](https://fairlearn.org/v0.8/api_reference/fairlearn.postprocessing.html?highlight=thresholdoptimizer#fairlearn.postprocessing.ThresholdOptimizer) creates a new classifier based on an already fitted one, looking for group-specific thresholds to optimize a fairness metric."
   ]
  },
  {
   "cell_type": "code",
   "execution_count": 20,
   "metadata": {},
   "outputs": [],
   "source": [
    "# Configure the postprocessing method\n",
    "model_fairlearn_post = ThresholdOptimizer(\n",
    "    estimator=model_sklearn,\n",
    "    constraints=\"equalized_odds\",  # Optimize FPR and FNR simultaneously\n",
    "    objective=\"balanced_accuracy_score\",\n",
    "    prefit=True,\n",
    "    predict_method=\"predict_proba\",\n",
    ")"
   ]
  },
  {
   "cell_type": "code",
   "execution_count": 21,
   "metadata": {},
   "outputs": [],
   "source": [
    "# Fit the new model and use it to get new predictions\n",
    "model_fairlearn_post.fit(X=x_train, y=y_train, sensitive_features=df_train[gender_feat])\n",
    "y_pred_fairlearn_post = model_fairlearn_post.predict(x_test, sensitive_features=df_test[gender_feat])"
   ]
  },
  {
   "cell_type": "code",
   "execution_count": 22,
   "metadata": {},
   "outputs": [
    {
     "data": {
      "image/png": "[encoded data removed]",
      "text/plain": [
       "<Figure size 640x480 with 2 Axes>"
      ]
     },
     "metadata": {},
     "output_type": "display_data"
    }
   ],
   "source": [
    "# The new confusion matrix\n",
    "cf_matrix = confusion_matrix(y_test, y_pred_fairlearn_post)\n",
    "make_confusion_matrix(cf_matrix)"
   ]
  },
  {
   "cell_type": "code",
   "execution_count": 23,
   "metadata": {},
   "outputs": [
    {
     "name": "stdout",
     "output_type": "stream",
     "text": [
      "== Metrics by gender ==\n",
      "       count  selection_rate  false_positive_rate  false_negative_rate\n",
      "Sex                                                                   \n",
      "0    10049.0        0.639566             0.224159             0.160053\n",
      "1     9890.0        0.455410             0.233687             0.168484\n",
      "== Metric differences ==\n",
      "count                  159.000000\n",
      "selection_rate           0.184157\n",
      "false_positive_rate      0.009528\n",
      "false_negative_rate      0.008431\n",
      "dtype: float64\n",
      "== Overall metrics ==\n",
      "count                  19939.000000\n",
      "selection_rate             0.548222\n",
      "false_positive_rate        0.230405\n",
      "false_negative_rate        0.163013\n",
      "dtype: float64\n"
     ]
    }
   ],
   "source": [
    "# The new fairness metrics\n",
    "metricframe_unmitigated = MetricFrame(\n",
    "    metrics=fairness_metrics,\n",
    "    y_true=y_test,\n",
    "    y_pred=y_pred_fairlearn_post,\n",
    "    sensitive_features=df_test[gender_feat]\n",
    ")\n",
    "print('== Metrics by gender ==')\n",
    "print(metricframe_unmitigated.by_group)\n",
    "\n",
    "print('== Metric differences ==')\n",
    "print(metricframe_unmitigated.difference())\n",
    "\n",
    "print('== Overall metrics ==')\n",
    "print(metricframe_unmitigated.overall)"
   ]
  },
  {
   "cell_type": "code",
   "execution_count": 24,
   "metadata": {},
   "outputs": [
    {
     "name": "stdout",
     "output_type": "stream",
     "text": [
      "Equalized odds difference (fairlearn+postprocessing): 0.009527895983178963\n"
     ]
    }
   ],
   "source": [
    "# Check if the equalized odds difference has been improved\n",
    "eod_fairlearn_post = equalized_odds_difference(y_true=y_test, y_pred=y_pred_fairlearn_post, sensitive_features=df_test[gender_feat])\n",
    "print(f\"Equalized odds difference (fairlearn+postprocessing): {eod_fairlearn_post}\")"
   ]
  },
  {
   "attachments": {},
   "cell_type": "markdown",
   "metadata": {},
   "source": [
    "### Mitigating gender bias during training\n",
    "\n",
    "We can also tackle the gender bias problem during training. The fairlearn libray provides several *reduction* methods, such as [ExponentiatedGradient](https://fairlearn.org/v0.8/api_reference/fairlearn.reductions.html#fairlearn.reductions.ExponentiatedGradient). This method allows choosing a base estimator and set constraints in terms of fairness metrics. The method will create several estimators using delta increments of the fairness metric."
   ]
  },
  {
   "cell_type": "code",
   "execution_count": 25,
   "metadata": {},
   "outputs": [],
   "source": [
    "# Configure the method\n",
    "# For epsilon, values around 1/sqrt(samples) are recommended (0.004)\n",
    "exp_grad_est = ExponentiatedGradient(\n",
    "        estimator=GradientBoostingClassifier(random_state=0),\n",
    "        constraints=EqualizedOdds(difference_bound=0.004),\n",
    ")"
   ]
  },
  {
   "cell_type": "code",
   "execution_count": 26,
   "metadata": {},
   "outputs": [
    {
     "name": "stdout",
     "output_type": "stream",
     "text": [
      "Number of predictors: 10\n"
     ]
    }
   ],
   "source": [
    "# Fit and get the inner predictors\n",
    "exp_grad_est.fit(x_train, y_train, sensitive_features=df_train[gender_feat])\n",
    "predictors = exp_grad_est.predictors_\n",
    "print(f\"Number of predictors: {len(predictors)}\")"
   ]
  },
  {
   "cell_type": "code",
   "execution_count": 27,
   "metadata": {},
   "outputs": [
    {
     "data": {
      "text/html": [
       "<div>\n",
       "<style scoped>\n",
       "    .dataframe tbody tr th:only-of-type {\n",
       "        vertical-align: middle;\n",
       "    }\n",
       "\n",
       "    .dataframe tbody tr th {\n",
       "        vertical-align: top;\n",
       "    }\n",
       "\n",
       "    .dataframe thead th {\n",
       "        text-align: right;\n",
       "    }\n",
       "</style>\n",
       "<table border=\"1\" class=\"dataframe\">\n",
       "  <thead>\n",
       "    <tr style=\"text-align: right;\">\n",
       "      <th></th>\n",
       "      <th>predictor</th>\n",
       "      <th>eod</th>\n",
       "    </tr>\n",
       "  </thead>\n",
       "  <tbody>\n",
       "    <tr>\n",
       "      <th>0</th>\n",
       "      <td>0</td>\n",
       "      <td>0.248478</td>\n",
       "    </tr>\n",
       "    <tr>\n",
       "      <th>1</th>\n",
       "      <td>1</td>\n",
       "      <td>0.069072</td>\n",
       "    </tr>\n",
       "    <tr>\n",
       "      <th>2</th>\n",
       "      <td>2</td>\n",
       "      <td>0.169121</td>\n",
       "    </tr>\n",
       "    <tr>\n",
       "      <th>3</th>\n",
       "      <td>3</td>\n",
       "      <td>0.764528</td>\n",
       "    </tr>\n",
       "    <tr>\n",
       "      <th>4</th>\n",
       "      <td>4</td>\n",
       "      <td>0.719383</td>\n",
       "    </tr>\n",
       "    <tr>\n",
       "      <th>5</th>\n",
       "      <td>5</td>\n",
       "      <td>0.094336</td>\n",
       "    </tr>\n",
       "    <tr>\n",
       "      <th>6</th>\n",
       "      <td>6</td>\n",
       "      <td>0.887405</td>\n",
       "    </tr>\n",
       "    <tr>\n",
       "      <th>7</th>\n",
       "      <td>7</td>\n",
       "      <td>0.102037</td>\n",
       "    </tr>\n",
       "    <tr>\n",
       "      <th>8</th>\n",
       "      <td>8</td>\n",
       "      <td>0.829904</td>\n",
       "    </tr>\n",
       "    <tr>\n",
       "      <th>9</th>\n",
       "      <td>9</td>\n",
       "      <td>0.059718</td>\n",
       "    </tr>\n",
       "  </tbody>\n",
       "</table>\n",
       "</div>"
      ],
      "text/plain": [
       "   predictor       eod\n",
       "0          0  0.248478\n",
       "1          1  0.069072\n",
       "2          2  0.169121\n",
       "3          3  0.764528\n",
       "4          4  0.719383\n",
       "5          5  0.094336\n",
       "6          6  0.887405\n",
       "7          7  0.102037\n",
       "8          8  0.829904\n",
       "9          9  0.059718"
      ]
     },
     "metadata": {},
     "output_type": "display_data"
    }
   ],
   "source": [
    "# Get the equalized odds difference for each predictor and keep the best one\n",
    "eod_values = []\n",
    "predictor_idx = range(0, len(predictors))\n",
    "\n",
    "best_eod = np.inf\n",
    "model_fairlearn_training = None\n",
    "for p in predictors:\n",
    "    y_pred = p.predict(x_test)\n",
    "    eod = equalized_odds_difference(y_true=y_test, y_pred=y_pred, sensitive_features=df_test[gender_feat])\n",
    "    eod_values.append(eod)\n",
    "    if eod < best_eod:\n",
    "        model_fairlearn_training = p\n",
    "        best_eod = eod\n",
    "df_eof = pd.DataFrame(data={'predictor':predictor_idx, 'eod':eod_values})\n",
    "display(df_eof)   "
   ]
  },
  {
   "cell_type": "code",
   "execution_count": 28,
   "metadata": {},
   "outputs": [
    {
     "data": {
      "image/png": "[encoded data removed]",
      "text/plain": [
       "<Figure size 640x480 with 2 Axes>"
      ]
     },
     "metadata": {},
     "output_type": "display_data"
    }
   ],
   "source": [
    "# The confusion matrix of the best model\n",
    "y_pred_fairlearn_training = model_fairlearn_training.predict(x_test)\n",
    "cf_matrix = confusion_matrix(y_test, y_pred)\n",
    "make_confusion_matrix(cf_matrix)"
   ]
  },
  {
   "cell_type": "code",
   "execution_count": 29,
   "metadata": {},
   "outputs": [
    {
     "data": {
      "image/png": "[encoded data removed]",
      "text/plain": [
       "<Figure size 640x480 with 1 Axes>"
      ]
     },
     "metadata": {},
     "output_type": "display_data"
    }
   ],
   "source": [
    "# Feature importance (fairlearn during training)\n",
    "make_feature_importance_plot(model_fairlearn_training, x_test, y_test, model_fairlearn_training.feature_names_in_, 10)"
   ]
  },
  {
   "attachments": {},
   "cell_type": "markdown",
   "metadata": {},
   "source": [
    "## Explaining predictions"
   ]
  },
  {
   "attachments": {},
   "cell_type": "markdown",
   "metadata": {},
   "source": [
    "### Original classifier (sklearn)"
   ]
  },
  {
   "cell_type": "code",
   "execution_count": 30,
   "metadata": {},
   "outputs": [
    {
     "name": "stdout",
     "output_type": "stream",
     "text": [
      "Preparation of a new explainer is initiated\n",
      "\n",
      "  -> data              : 40481 rows 44 cols\n",
      "  -> target variable   : Parameter 'y' was a pandas.Series. Converted to a numpy.ndarray.\n",
      "  -> target variable   : 40481 values\n",
      "  -> model_class       : sklearn.ensemble._gb.GradientBoostingClassifier (default)\n",
      "  -> label             : Classifier (sklearn)\n",
      "  -> predict function  : <function yhat_proba_default at 0x000001E95D754EE0> will be used (default)\n",
      "  -> predict function  : Accepts pandas.DataFrame and numpy.ndarray.\n",
      "  -> predicted values  : min = 0.0175, mean = 0.524, max = 0.991\n",
      "  -> model type        : classification will be used (default)\n",
      "  -> residual function : difference between y and yhat (default)\n",
      "  -> residuals         : min = -0.988, mean = 8.3e-06, max = 0.969\n",
      "  -> model_info        : package sklearn\n",
      "\n",
      "A new explainer has been created!\n"
     ]
    }
   ],
   "source": [
    "# Configure local explainer for the full model\n",
    "explainer = dx.Explainer(model=model_sklearn, data=x_train, y=y_train, label=\"Classifier (sklearn)\")"
   ]
  },
  {
   "cell_type": "code",
   "execution_count": 31,
   "metadata": {},
   "outputs": [],
   "source": [
    "# Remove target feature from data frames\n",
    "df_tp.drop([target_feat], axis=1, inplace=True)\n",
    "df_fp.drop([target_feat], axis=1, inplace=True)\n",
    "df_tn.drop([target_feat], axis=1, inplace=True)\n",
    "df_fn.drop([target_feat], axis=1, inplace=True)"
   ]
  },
  {
   "cell_type": "code",
   "execution_count": 32,
   "metadata": {},
   "outputs": [
    {
     "data": {
      "application/vnd.plotly.v1+json": {
       "config": {
        "displaylogo": false,
        "modeBarButtonsToRemove": [
         "sendDataToCloud",
         "lasso2d",
         "autoScale2d",
         "select2d",
         "zoom2d",
         "pan2d",
         "zoomIn2d",
         "zoomOut2d",
         "resetScale2d",
         "toggleSpikelines",
         "hoverCompareCartesian",
         "hoverClosestCartesian"
        ],
        "plotlyServerURL": "https://plot.ly",
        "staticPlot": false,
        "toImageButtonOptions": {
         "height": null,
         "width": null
        }
       },
       "data": [
        {
         "base": 0.5239412111268394,
         "connector": {
          "line": {
           "color": "#371ea3",
           "dash": "solid",
           "width": 1
          },
          "mode": "spanning"
         },
         "decreasing": {
          "marker": {
           "color": "#f05a71"
          }
         },
         "hoverinfo": "text+delta",
         "hoverlabel": {
          "bgcolor": "rgba(0,0,0,0.8)"
         },
         "hovertext": [
          "Average response: 0.524<br>Prediction: 0.968",
          "EducationLevel_6 = 0.0<br>increases average response by",
          "EducationLevel_2 = 1.0<br>increases average response by",
          "Sex = 0.0<br>increases average response by",
          "Age = 16.0<br>increases average response by",
          "EconomicStatus_3 = 1.0<br>increases average response by",
          "HouseholdPosition_4 = 1.0<br>increases average response by",
          "EconomicStatus_2 = 0.0<br>increases average response by",
          "CurEcoActivity_5 = 0.0<br>increases average response by",
          "MaritalStatus_1 = 1.0<br>decreases average response by",
          "EducationLevel_5 = 0.0<br>increases average response by",
          "+ all other factors<br>decreases average response by",
          "Average response: 0.524<br>Prediction: 0.968"
         ],
         "increasing": {
          "marker": {
           "color": "#8bdcbe"
          }
         },
         "measure": [
          "relative",
          "relative",
          "relative",
          "relative",
          "relative",
          "relative",
          "relative",
          "relative",
          "relative",
          "relative",
          "relative",
          "relative",
          "total"
         ],
         "orientation": "h",
         "showlegend": false,
         "text": [
          "0.524",
          "+0.133",
          "+0.133",
          "+0.08",
          "+0.005",
          "+0.006",
          "+0.01",
          "+0.053",
          "+0.024",
          "-0.0",
          "+0.001",
          "0.0",
          "0.968"
         ],
         "textposition": "outside",
         "totals": {
          "marker": {
           "color": "#371ea3"
          }
         },
         "type": "waterfall",
         "x": [
          0,
          0.133,
          0.133,
          0.08,
          0.005,
          0.006,
          0.01,
          0.053,
          0.024,
          0,
          0.001,
          0,
          0.444
         ],
         "xaxis": "x",
         "y": [
          "intercept",
          "EducationLevel_6 = 0.0",
          "EducationLevel_2 = 1.0",
          "Sex = 0.0",
          "Age = 16.0",
          "EconomicStatus_3 = 1.0",
          "HouseholdPosition_4 = 1.0",
          "EconomicStatus_2 = 0.0",
          "CurEcoActivity_5 = 0.0",
          "MaritalStatus_1 = 1.0",
          "EducationLevel_5 = 0.0",
          "+ all other factors",
          "prediction"
         ],
         "yaxis": "y"
        }
       ],
       "layout": {
        "annotations": [
         {
          "font": {
           "size": 16
          },
          "showarrow": false,
          "text": "Classifier (sklearn)",
          "x": 0.5,
          "xanchor": "center",
          "xref": "paper",
          "y": 1,
          "yanchor": "bottom",
          "yref": "paper"
         },
         {
          "font": {
           "size": 16
          },
          "showarrow": false,
          "text": "contribution",
          "x": 0.5,
          "xanchor": "center",
          "xref": "paper",
          "y": 0,
          "yanchor": "top",
          "yref": "paper",
          "yshift": -30
         }
        ],
        "font": {
         "color": "#371ea3"
        },
        "height": 413,
        "margin": {
         "b": 71,
         "r": 30,
         "t": 78
        },
        "shapes": [
         {
          "line": {
           "color": "#371ea3",
           "dash": "dot",
           "width": 1.5
          },
          "type": "line",
          "x0": 0.5239412111268394,
          "x1": 0.5239412111268394,
          "xref": "x",
          "y0": -1,
          "y1": 13,
          "yref": "y"
         }
        ],
        "template": {
         "data": {
          "scatter": [
           {
            "type": "scatter"
           }
          ]
         }
        },
        "title": {
         "text": "Break Down",
         "x": 0.15
        },
        "xaxis": {
         "anchor": "y",
         "automargin": true,
         "domain": [
          0,
          1
         ],
         "fixedrange": true,
         "gridwidth": 2,
         "range": [
          0.45740000000000003,
          1.0346
         ],
         "tickcolor": "white",
         "ticklen": 3,
         "ticks": "outside",
         "type": "linear",
         "zeroline": false
        },
        "yaxis": {
         "anchor": "x",
         "automargin": true,
         "autorange": "reversed",
         "domain": [
          0,
          1
         ],
         "fixedrange": true,
         "gridwidth": 2,
         "tickcolor": "white",
         "ticklen": 10,
         "ticks": "outside",
         "type": "category"
        }
       }
      }
     },
     "metadata": {},
     "output_type": "display_data"
    }
   ],
   "source": [
    "# Local explanation for female with high occupation (good prediction)\n",
    "female_tp_sample = df_tp[df_tp[gender_feat]==0][0:1]\n",
    "expl = explainer.predict_parts(female_tp_sample, type='break_down')\n",
    "expl.plot()"
   ]
  },
  {
   "cell_type": "code",
   "execution_count": 33,
   "metadata": {},
   "outputs": [
    {
     "data": {
      "application/vnd.plotly.v1+json": {
       "config": {
        "displaylogo": false,
        "modeBarButtonsToRemove": [
         "sendDataToCloud",
         "lasso2d",
         "autoScale2d",
         "select2d",
         "zoom2d",
         "pan2d",
         "zoomIn2d",
         "zoomOut2d",
         "resetScale2d",
         "toggleSpikelines",
         "hoverCompareCartesian",
         "hoverClosestCartesian"
        ],
        "plotlyServerURL": "https://plot.ly",
        "staticPlot": false,
        "toImageButtonOptions": {
         "height": null,
         "width": null
        }
       },
       "data": [
        {
         "base": 0.5239412111268394,
         "hoverinfo": "text",
         "hoverlabel": {
          "bgcolor": "rgba(0,0,0,0.8)"
         },
         "hovertext": [
          "Average response: 0.524<br>Prediction: 0.155<br>EducationLevel_6 = 1.0<br>decreases average response <br>by 0.386",
          "Average response: 0.524<br>Prediction: 0.155<br>Sex = 0.0<br>increases average response <br>by 0.078",
          "Average response: 0.524<br>Prediction: 0.155<br>Age = 37.0<br>decreases average response <br>by 0.029",
          "Average response: 0.524<br>Prediction: 0.155<br>CurEcoActivity_1 = 0.0<br>decreases average response <br>by 0.026",
          "Average response: 0.524<br>Prediction: 0.155<br>EducationLevel_3 = 0.0<br>decreases average response <br>by 0.026",
          "Average response: 0.524<br>Prediction: 0.155<br>EconomicStatus_2 = 0.0<br>increases average response <br>by 0.023",
          "Average response: 0.524<br>Prediction: 0.155<br>CurEcoActivity_6 = 1.0<br>increases average response <br>by 0.017",
          "Average response: 0.524<br>Prediction: 0.155<br>CurEcoActivity_5 = 0.0<br>increases average response <br>by 0.011",
          "Average response: 0.524<br>Prediction: 0.155<br>EducationLevel_2 = 0.0<br>decreases average response <br>by 0.011",
          "Average response: 0.524<br>Prediction: 0.155<br>+ all other factors<br>decreases average response <br>by 0.02"
         ],
         "marker": {
          "color": [
           "#f05a71",
           "#8bdcbe",
           "#f05a71",
           "#f05a71",
           "#f05a71",
           "#8bdcbe",
           "#8bdcbe",
           "#8bdcbe",
           "#f05a71",
           "#f05a71"
          ]
         },
         "orientation": "h",
         "showlegend": false,
         "text": [
          "-0.386",
          "+0.078",
          "-0.029",
          "-0.026",
          "-0.026",
          "+0.023",
          "+0.017",
          "+0.011",
          "-0.011",
          "-0.02"
         ],
         "textposition": "outside",
         "type": "bar",
         "x": [
          -0.386,
          0.078,
          -0.029,
          -0.026,
          -0.026,
          0.023,
          0.017,
          0.011,
          -0.011,
          -0.02
         ],
         "xaxis": "x",
         "y": [
          "EducationLevel_6 = 1.0",
          "Sex = 0.0",
          "Age = 37.0",
          "CurEcoActivity_1 = 0.0",
          "EducationLevel_3 = 0.0",
          "EconomicStatus_2 = 0.0",
          "CurEcoActivity_6 = 1.0",
          "CurEcoActivity_5 = 0.0",
          "EducationLevel_2 = 0.0",
          "+ all other factors"
         ],
         "yaxis": "y"
        }
       ],
       "layout": {
        "annotations": [
         {
          "font": {
           "size": 16
          },
          "showarrow": false,
          "text": "Classifier (sklearn)",
          "x": 0.5,
          "xanchor": "center",
          "xref": "paper",
          "y": 1,
          "yanchor": "bottom",
          "yref": "paper"
         },
         {
          "font": {
           "size": 16
          },
          "showarrow": false,
          "text": "contribution",
          "x": 0.5,
          "xanchor": "center",
          "xref": "paper",
          "y": 0,
          "yanchor": "top",
          "yref": "paper",
          "yshift": -30
         }
        ],
        "font": {
         "color": "#371ea3"
        },
        "height": 373,
        "margin": {
         "b": 71,
         "r": 30,
         "t": 78
        },
        "shapes": [
         {
          "line": {
           "color": "#371ea3",
           "dash": "dot",
           "width": 1.5
          },
          "type": "line",
          "x0": 0.5239412111268394,
          "x1": 0.5239412111268394,
          "xref": "x",
          "y0": -1,
          "y1": 11,
          "yref": "y"
         }
        ],
        "template": {
         "data": {
          "scatter": [
           {
            "type": "scatter"
           }
          ]
         }
        },
        "title": {
         "text": "Shapley Values",
         "x": 0.15
        },
        "xaxis": {
         "anchor": "y",
         "automargin": true,
         "domain": [
          0,
          1
         ],
         "fixedrange": true,
         "gridwidth": 2,
         "range": [
          0.06834121112683944,
          0.6715412111268394
         ],
         "tickcolor": "white",
         "ticklen": 3,
         "ticks": "outside",
         "type": "linear",
         "zeroline": false
        },
        "yaxis": {
         "anchor": "x",
         "automargin": true,
         "autorange": "reversed",
         "domain": [
          0,
          1
         ],
         "fixedrange": true,
         "gridwidth": 2,
         "tickcolor": "white",
         "ticklen": 10,
         "ticks": "outside",
         "type": "category"
        }
       }
      }
     },
     "metadata": {},
     "output_type": "display_data"
    }
   ],
   "source": [
    "# Local explanation for female with low occupation (good prediction)\n",
    "female_tn_sample = df_tn[df_tn[gender_feat]==0][0:1]\n",
    "expl = explainer.predict_parts(female_tn_sample, type='shap')\n",
    "expl.plot()"
   ]
  },
  {
   "cell_type": "code",
   "execution_count": 34,
   "metadata": {},
   "outputs": [
    {
     "data": {
      "application/vnd.plotly.v1+json": {
       "config": {
        "displaylogo": false,
        "modeBarButtonsToRemove": [
         "sendDataToCloud",
         "lasso2d",
         "autoScale2d",
         "select2d",
         "zoom2d",
         "pan2d",
         "zoomIn2d",
         "zoomOut2d",
         "resetScale2d",
         "toggleSpikelines",
         "hoverCompareCartesian",
         "hoverClosestCartesian"
        ],
        "plotlyServerURL": "https://plot.ly",
        "staticPlot": false,
        "toImageButtonOptions": {
         "height": null,
         "width": null
        }
       },
       "data": [
        {
         "base": 0.5239412111268394,
         "connector": {
          "line": {
           "color": "#371ea3",
           "dash": "solid",
           "width": 1
          },
          "mode": "spanning"
         },
         "decreasing": {
          "marker": {
           "color": "#f05a71"
          }
         },
         "hoverinfo": "text+delta",
         "hoverlabel": {
          "bgcolor": "rgba(0,0,0,0.8)"
         },
         "hovertext": [
          "Average response: 0.524<br>Prediction: 0.953",
          "EducationLevel_6 = 0.0<br>increases average response by",
          "CurEcoActivity_7 = 1.0<br>increases average response by",
          "Age = 16.0<br>increases average response by",
          "EconomicStatus_3 = 1.0<br>increases average response by",
          "HouseholdPosition_4 = 1.0<br>increases average response by",
          "EconomicStatus_2 = 0.0<br>increases average response by",
          "CurEcoActivity_5 = 0.0<br>increases average response by",
          "MaritalStatus_1 = 1.0<br>increases average response by",
          "EducationLevel_5 = 0.0<br>increases average response by",
          "MaritalStatus_2 = 0.0<br>decreases average response by",
          "+ all other factors<br>decreases average response by",
          "Average response: 0.524<br>Prediction: 0.953"
         ],
         "increasing": {
          "marker": {
           "color": "#8bdcbe"
          }
         },
         "measure": [
          "relative",
          "relative",
          "relative",
          "relative",
          "relative",
          "relative",
          "relative",
          "relative",
          "relative",
          "relative",
          "relative",
          "relative",
          "total"
         ],
         "orientation": "h",
         "showlegend": false,
         "text": [
          "0.524",
          "+0.133",
          "+0.071",
          "+0.092",
          "+0.053",
          "+0.029",
          "+0.033",
          "+0.022",
          "+0.004",
          "+0.001",
          "0.0",
          "-0.009",
          "0.953"
         ],
         "textposition": "outside",
         "totals": {
          "marker": {
           "color": "#371ea3"
          }
         },
         "type": "waterfall",
         "x": [
          0,
          0.133,
          0.071,
          0.092,
          0.053,
          0.029,
          0.033,
          0.022,
          0.004,
          0.001,
          0,
          -0.009,
          0.43
         ],
         "xaxis": "x",
         "y": [
          "intercept",
          "EducationLevel_6 = 0.0",
          "CurEcoActivity_7 = 1.0",
          "Age = 16.0",
          "EconomicStatus_3 = 1.0",
          "HouseholdPosition_4 = 1.0",
          "EconomicStatus_2 = 0.0",
          "CurEcoActivity_5 = 0.0",
          "MaritalStatus_1 = 1.0",
          "EducationLevel_5 = 0.0",
          "MaritalStatus_2 = 0.0",
          "+ all other factors",
          "prediction"
         ],
         "yaxis": "y"
        }
       ],
       "layout": {
        "annotations": [
         {
          "font": {
           "size": 16
          },
          "showarrow": false,
          "text": "Classifier (sklearn)",
          "x": 0.5,
          "xanchor": "center",
          "xref": "paper",
          "y": 1,
          "yanchor": "bottom",
          "yref": "paper"
         },
         {
          "font": {
           "size": 16
          },
          "showarrow": false,
          "text": "contribution",
          "x": 0.5,
          "xanchor": "center",
          "xref": "paper",
          "y": 0,
          "yanchor": "top",
          "yref": "paper",
          "yshift": -30
         }
        ],
        "font": {
         "color": "#371ea3"
        },
        "height": 413,
        "margin": {
         "b": 71,
         "r": 30,
         "t": 78
        },
        "shapes": [
         {
          "line": {
           "color": "#371ea3",
           "dash": "dot",
           "width": 1.5
          },
          "type": "line",
          "x0": 0.5239412111268394,
          "x1": 0.5239412111268394,
          "xref": "x",
          "y0": -1,
          "y1": 13,
          "yref": "y"
         }
        ],
        "template": {
         "data": {
          "scatter": [
           {
            "type": "scatter"
           }
          ]
         }
        },
        "title": {
         "text": "Break Down",
         "x": 0.15
        },
        "xaxis": {
         "anchor": "y",
         "automargin": true,
         "domain": [
          0,
          1
         ],
         "fixedrange": true,
         "gridwidth": 2,
         "range": [
          0.45830000000000004,
          1.0277
         ],
         "tickcolor": "white",
         "ticklen": 3,
         "ticks": "outside",
         "type": "linear",
         "zeroline": false
        },
        "yaxis": {
         "anchor": "x",
         "automargin": true,
         "autorange": "reversed",
         "domain": [
          0,
          1
         ],
         "fixedrange": true,
         "gridwidth": 2,
         "tickcolor": "white",
         "ticklen": 10,
         "ticks": "outside",
         "type": "category"
        }
       }
      }
     },
     "metadata": {},
     "output_type": "display_data"
    }
   ],
   "source": [
    "# Local explanation for male with high occupation (good prediction)\n",
    "male_tp_sample = df_tp[df_tp[gender_feat]==1][0:1]\n",
    "expl = explainer.predict_parts(male_tp_sample, type='break_down')\n",
    "expl.plot()"
   ]
  },
  {
   "cell_type": "code",
   "execution_count": 35,
   "metadata": {},
   "outputs": [
    {
     "data": {
      "application/vnd.plotly.v1+json": {
       "config": {
        "displaylogo": false,
        "modeBarButtonsToRemove": [
         "sendDataToCloud",
         "lasso2d",
         "autoScale2d",
         "select2d",
         "zoom2d",
         "pan2d",
         "zoomIn2d",
         "zoomOut2d",
         "resetScale2d",
         "toggleSpikelines",
         "hoverCompareCartesian",
         "hoverClosestCartesian"
        ],
        "plotlyServerURL": "https://plot.ly",
        "staticPlot": false,
        "toImageButtonOptions": {
         "height": null,
         "width": null
        }
       },
       "data": [
        {
         "base": 0.5239412111268394,
         "hoverinfo": "text",
         "hoverlabel": {
          "bgcolor": "rgba(0,0,0,0.8)"
         },
         "hovertext": [
          "Average response: 0.524<br>Prediction: 0.066<br>EducationLevel_6 = 1.0<br>decreases average response <br>by 0.292",
          "Average response: 0.524<br>Prediction: 0.066<br>Sex = 1.0<br>decreases average response <br>by 0.078",
          "Average response: 0.524<br>Prediction: 0.066<br>EducationLevel_3 = 0.0<br>decreases average response <br>by 0.029",
          "Average response: 0.524<br>Prediction: 0.066<br>Age = 27.0<br>decreases average response <br>by 0.027",
          "Average response: 0.524<br>Prediction: 0.066<br>EconomicStatus_2 = 0.0<br>increases average response <br>by 0.016",
          "Average response: 0.524<br>Prediction: 0.066<br>EducationLevel_2 = 0.0<br>decreases average response <br>by 0.014",
          "Average response: 0.524<br>Prediction: 0.066<br>CurEcoActivity_1 = 0.0<br>decreases average response <br>by 0.012",
          "Average response: 0.524<br>Prediction: 0.066<br>CurEcoActivity_7 = 0.0<br>decreases average response <br>by 0.007",
          "Average response: 0.524<br>Prediction: 0.066<br>EconomicStatus_3 = 0.0<br>decreases average response <br>by 0.007",
          "Average response: 0.524<br>Prediction: 0.066<br>+ all other factors<br>decreases average response <br>by 0.008"
         ],
         "marker": {
          "color": [
           "#f05a71",
           "#f05a71",
           "#f05a71",
           "#f05a71",
           "#8bdcbe",
           "#f05a71",
           "#f05a71",
           "#f05a71",
           "#f05a71",
           "#f05a71"
          ]
         },
         "orientation": "h",
         "showlegend": false,
         "text": [
          "-0.292",
          "-0.078",
          "-0.029",
          "-0.027",
          "+0.016",
          "-0.014",
          "-0.012",
          "-0.007",
          "-0.007",
          "-0.008"
         ],
         "textposition": "outside",
         "type": "bar",
         "x": [
          -0.292,
          -0.078,
          -0.029,
          -0.027,
          0.016,
          -0.014,
          -0.012,
          -0.007,
          -0.007,
          -0.008
         ],
         "xaxis": "x",
         "y": [
          "EducationLevel_6 = 1.0",
          "Sex = 1.0",
          "EducationLevel_3 = 0.0",
          "Age = 27.0",
          "EconomicStatus_2 = 0.0",
          "EducationLevel_2 = 0.0",
          "CurEcoActivity_1 = 0.0",
          "CurEcoActivity_7 = 0.0",
          "EconomicStatus_3 = 0.0",
          "+ all other factors"
         ],
         "yaxis": "y"
        }
       ],
       "layout": {
        "annotations": [
         {
          "font": {
           "size": 16
          },
          "showarrow": false,
          "text": "Classifier (sklearn)",
          "x": 0.5,
          "xanchor": "center",
          "xref": "paper",
          "y": 1,
          "yanchor": "bottom",
          "yref": "paper"
         },
         {
          "font": {
           "size": 16
          },
          "showarrow": false,
          "text": "contribution",
          "x": 0.5,
          "xanchor": "center",
          "xref": "paper",
          "y": 0,
          "yanchor": "top",
          "yref": "paper",
          "yshift": -30
         }
        ],
        "font": {
         "color": "#371ea3"
        },
        "height": 373,
        "margin": {
         "b": 71,
         "r": 30,
         "t": 78
        },
        "shapes": [
         {
          "line": {
           "color": "#371ea3",
           "dash": "dot",
           "width": 1.5
          },
          "type": "line",
          "x0": 0.5239412111268394,
          "x1": 0.5239412111268394,
          "xref": "x",
          "y0": -1,
          "y1": 11,
          "yref": "y"
         }
        ],
        "template": {
         "data": {
          "scatter": [
           {
            "type": "scatter"
           }
          ]
         }
        },
        "title": {
         "text": "Shapley Values",
         "x": 0.15
        },
        "xaxis": {
         "anchor": "y",
         "automargin": true,
         "domain": [
          0,
          1
         ],
         "fixedrange": true,
         "gridwidth": 2,
         "range": [
          0.18574121112683947,
          0.5861412111268395
         ],
         "tickcolor": "white",
         "ticklen": 3,
         "ticks": "outside",
         "type": "linear",
         "zeroline": false
        },
        "yaxis": {
         "anchor": "x",
         "automargin": true,
         "autorange": "reversed",
         "domain": [
          0,
          1
         ],
         "fixedrange": true,
         "gridwidth": 2,
         "tickcolor": "white",
         "ticklen": 10,
         "ticks": "outside",
         "type": "category"
        }
       }
      }
     },
     "metadata": {},
     "output_type": "display_data"
    }
   ],
   "source": [
    "# Local explanation for male with low occupation (good prediction)\n",
    "male_tn_sample = df_tn[df_tn[gender_feat]==1][0:1]\n",
    "expl = explainer.predict_parts(male_tn_sample, type='shap')\n",
    "expl.plot()"
   ]
  },
  {
   "attachments": {},
   "cell_type": "markdown",
   "metadata": {},
   "source": [
    "### Classifier with bias mitigation (fairlearn)"
   ]
  },
  {
   "cell_type": "code",
   "execution_count": 36,
   "metadata": {},
   "outputs": [
    {
     "name": "stdout",
     "output_type": "stream",
     "text": [
      "Preparation of a new explainer is initiated\n",
      "\n",
      "  -> data              : 40481 rows 44 cols\n",
      "  -> target variable   : Parameter 'y' was a pandas.Series. Converted to a numpy.ndarray.\n",
      "  -> target variable   : 40481 values\n",
      "  -> model_class       : sklearn.ensemble._gb.GradientBoostingClassifier (default)\n",
      "  -> label             : Classifier (fairlearn)\n",
      "  -> predict function  : <function yhat_proba_default at 0x000001E95D754EE0> will be used (default)\n",
      "  -> predict function  : Accepts pandas.DataFrame and numpy.ndarray.\n",
      "  -> predicted values  : min = 0.0204, mean = 0.586, max = 0.993\n",
      "  -> model type        : classification will be used (default)\n",
      "  -> residual function : difference between y and yhat (default)\n",
      "  -> residuals         : min = -0.991, mean = -0.0622, max = 0.96\n",
      "  -> model_info        : package sklearn\n",
      "\n",
      "A new explainer has been created!\n"
     ]
    }
   ],
   "source": [
    "# Configure local explainer for the female model\n",
    "explainer = dx.Explainer(model=model_fairlearn_training, data=x_train, y=y_train, label=\"Classifier (fairlearn)\")"
   ]
  },
  {
   "cell_type": "code",
   "execution_count": 37,
   "metadata": {},
   "outputs": [
    {
     "data": {
      "application/vnd.plotly.v1+json": {
       "config": {
        "displaylogo": false,
        "modeBarButtonsToRemove": [
         "sendDataToCloud",
         "lasso2d",
         "autoScale2d",
         "select2d",
         "zoom2d",
         "pan2d",
         "zoomIn2d",
         "zoomOut2d",
         "resetScale2d",
         "toggleSpikelines",
         "hoverCompareCartesian",
         "hoverClosestCartesian"
        ],
        "plotlyServerURL": "https://plot.ly",
        "staticPlot": false,
        "toImageButtonOptions": {
         "height": null,
         "width": null
        }
       },
       "data": [
        {
         "base": 0.5861631041581348,
         "connector": {
          "line": {
           "color": "#371ea3",
           "dash": "solid",
           "width": 1
          },
          "mode": "spanning"
         },
         "decreasing": {
          "marker": {
           "color": "#f05a71"
          }
         },
         "hoverinfo": "text+delta",
         "hoverlabel": {
          "bgcolor": "rgba(0,0,0,0.8)"
         },
         "hovertext": [
          "Average response: 0.586<br>Prediction: 0.981",
          "EducationLevel_6 = 0.0<br>increases average response by",
          "Age = 16.0<br>increases average response by",
          "EducationLevel_2 = 1.0<br>increases average response by",
          "Sex = 0.0<br>increases average response by",
          "EconomicStatus_3 = 1.0<br>increases average response by",
          "HouseholdPosition_4 = 1.0<br>increases average response by",
          "EconomicStatus_2 = 0.0<br>increases average response by",
          "MaritalStatus_1 = 1.0<br>increases average response by",
          "CurEcoActivity_5 = 0.0<br>increases average response by",
          "EducationLevel_4 = 0.0<br>increases average response by",
          "+ all other factors<br>increases average response by",
          "Average response: 0.586<br>Prediction: 0.981"
         ],
         "increasing": {
          "marker": {
           "color": "#8bdcbe"
          }
         },
         "measure": [
          "relative",
          "relative",
          "relative",
          "relative",
          "relative",
          "relative",
          "relative",
          "relative",
          "relative",
          "relative",
          "relative",
          "relative",
          "total"
         ],
         "orientation": "h",
         "showlegend": false,
         "text": [
          "0.586",
          "+0.157",
          "+0.062",
          "+0.065",
          "+0.044",
          "+0.01",
          "+0.009",
          "+0.036",
          "+0.004",
          "+0.005",
          "+0.001",
          "+0.002",
          "0.981"
         ],
         "textposition": "outside",
         "totals": {
          "marker": {
           "color": "#371ea3"
          }
         },
         "type": "waterfall",
         "x": [
          0,
          0.157,
          0.062,
          0.065,
          0.044,
          0.01,
          0.009,
          0.036,
          0.004,
          0.005,
          0.001,
          0.002,
          0.395
         ],
         "xaxis": "x",
         "y": [
          "intercept",
          "EducationLevel_6 = 0.0",
          "Age = 16.0",
          "EducationLevel_2 = 1.0",
          "Sex = 0.0",
          "EconomicStatus_3 = 1.0",
          "HouseholdPosition_4 = 1.0",
          "EconomicStatus_2 = 0.0",
          "MaritalStatus_1 = 1.0",
          "CurEcoActivity_5 = 0.0",
          "EducationLevel_4 = 0.0",
          "+ all other factors",
          "prediction"
         ],
         "yaxis": "y"
        }
       ],
       "layout": {
        "annotations": [
         {
          "font": {
           "size": 16
          },
          "showarrow": false,
          "text": "Classifier (fairlearn)",
          "x": 0.5,
          "xanchor": "center",
          "xref": "paper",
          "y": 1,
          "yanchor": "bottom",
          "yref": "paper"
         },
         {
          "font": {
           "size": 16
          },
          "showarrow": false,
          "text": "contribution",
          "x": 0.5,
          "xanchor": "center",
          "xref": "paper",
          "y": 0,
          "yanchor": "top",
          "yref": "paper",
          "yshift": -30
         }
        ],
        "font": {
         "color": "#371ea3"
        },
        "height": 413,
        "margin": {
         "b": 71,
         "r": 30,
         "t": 78
        },
        "shapes": [
         {
          "line": {
           "color": "#371ea3",
           "dash": "dot",
           "width": 1.5
          },
          "type": "line",
          "x0": 0.5861631041581348,
          "x1": 0.5861631041581348,
          "xref": "x",
          "y0": -1,
          "y1": 13,
          "yref": "y"
         }
        ],
        "template": {
         "data": {
          "scatter": [
           {
            "type": "scatter"
           }
          ]
         }
        },
        "title": {
         "text": "Break Down",
         "x": 0.15
        },
        "xaxis": {
         "anchor": "y",
         "automargin": true,
         "domain": [
          0,
          1
         ],
         "fixedrange": true,
         "gridwidth": 2,
         "range": [
          0.5267499999999999,
          1.04025
         ],
         "tickcolor": "white",
         "ticklen": 3,
         "ticks": "outside",
         "type": "linear",
         "zeroline": false
        },
        "yaxis": {
         "anchor": "x",
         "automargin": true,
         "autorange": "reversed",
         "domain": [
          0,
          1
         ],
         "fixedrange": true,
         "gridwidth": 2,
         "tickcolor": "white",
         "ticklen": 10,
         "ticks": "outside",
         "type": "category"
        }
       }
      }
     },
     "metadata": {},
     "output_type": "display_data"
    }
   ],
   "source": [
    "# Local explanation for female with high occupation (good original prediction)\n",
    "expl = explainer.predict_parts(female_tp_sample, type='break_down')\n",
    "expl.plot()"
   ]
  },
  {
   "cell_type": "code",
   "execution_count": 38,
   "metadata": {},
   "outputs": [
    {
     "data": {
      "application/vnd.plotly.v1+json": {
       "config": {
        "displaylogo": false,
        "modeBarButtonsToRemove": [
         "sendDataToCloud",
         "lasso2d",
         "autoScale2d",
         "select2d",
         "zoom2d",
         "pan2d",
         "zoomIn2d",
         "zoomOut2d",
         "resetScale2d",
         "toggleSpikelines",
         "hoverCompareCartesian",
         "hoverClosestCartesian"
        ],
        "plotlyServerURL": "https://plot.ly",
        "staticPlot": false,
        "toImageButtonOptions": {
         "height": null,
         "width": null
        }
       },
       "data": [
        {
         "base": 0.5861631041581348,
         "hoverinfo": "text",
         "hoverlabel": {
          "bgcolor": "rgba(0,0,0,0.8)"
         },
         "hovertext": [
          "Average response: 0.586<br>Prediction: 0.302<br>EducationLevel_6 = 1.0<br>decreases average response <br>by 0.34",
          "Average response: 0.586<br>Prediction: 0.302<br>Sex = 0.0<br>increases average response <br>by 0.091",
          "Average response: 0.586<br>Prediction: 0.302<br>Age = 37.0<br>decreases average response <br>by 0.05",
          "Average response: 0.586<br>Prediction: 0.302<br>EconomicStatus_2 = 0.0<br>increases average response <br>by 0.022",
          "Average response: 0.586<br>Prediction: 0.302<br>CurEcoActivity_6 = 1.0<br>increases average response <br>by 0.019",
          "Average response: 0.586<br>Prediction: 0.302<br>EducationLevel_3 = 0.0<br>decreases average response <br>by 0.018",
          "Average response: 0.586<br>Prediction: 0.302<br>CurEcoActivity_5 = 0.0<br>increases average response <br>by 0.017",
          "Average response: 0.586<br>Prediction: 0.302<br>MaritalStatus_2 = 1.0<br>increases average response <br>by 0.013",
          "Average response: 0.586<br>Prediction: 0.302<br>CurEcoActivity_1 = 0.0<br>decreases average response <br>by 0.012",
          "Average response: 0.586<br>Prediction: 0.302<br>+ all other factors<br>decreases average response <br>by 0.026"
         ],
         "marker": {
          "color": [
           "#f05a71",
           "#8bdcbe",
           "#f05a71",
           "#8bdcbe",
           "#8bdcbe",
           "#f05a71",
           "#8bdcbe",
           "#8bdcbe",
           "#f05a71",
           "#f05a71"
          ]
         },
         "orientation": "h",
         "showlegend": false,
         "text": [
          "-0.34",
          "+0.091",
          "-0.05",
          "+0.022",
          "+0.019",
          "-0.018",
          "+0.017",
          "+0.013",
          "-0.012",
          "-0.026"
         ],
         "textposition": "outside",
         "type": "bar",
         "x": [
          -0.34,
          0.091,
          -0.05,
          0.022,
          0.019,
          -0.018,
          0.017,
          0.013,
          -0.012,
          -0.026
         ],
         "xaxis": "x",
         "y": [
          "EducationLevel_6 = 1.0",
          "Sex = 0.0",
          "Age = 37.0",
          "EconomicStatus_2 = 0.0",
          "CurEcoActivity_6 = 1.0",
          "EducationLevel_3 = 0.0",
          "CurEcoActivity_5 = 0.0",
          "MaritalStatus_2 = 1.0",
          "CurEcoActivity_1 = 0.0",
          "+ all other factors"
         ],
         "yaxis": "y"
        }
       ],
       "layout": {
        "annotations": [
         {
          "font": {
           "size": 16
          },
          "showarrow": false,
          "text": "Classifier (fairlearn)",
          "x": 0.5,
          "xanchor": "center",
          "xref": "paper",
          "y": 1,
          "yanchor": "bottom",
          "yref": "paper"
         },
         {
          "font": {
           "size": 16
          },
          "showarrow": false,
          "text": "contribution",
          "x": 0.5,
          "xanchor": "center",
          "xref": "paper",
          "y": 0,
          "yanchor": "top",
          "yref": "paper",
          "yshift": -30
         }
        ],
        "font": {
         "color": "#371ea3"
        },
        "height": 373,
        "margin": {
         "b": 71,
         "r": 30,
         "t": 78
        },
        "shapes": [
         {
          "line": {
           "color": "#371ea3",
           "dash": "dot",
           "width": 1.5
          },
          "type": "line",
          "x0": 0.5861631041581348,
          "x1": 0.5861631041581348,
          "xref": "x",
          "y0": -1,
          "y1": 11,
          "yref": "y"
         }
        ],
        "template": {
         "data": {
          "scatter": [
           {
            "type": "scatter"
           }
          ]
         }
        },
        "title": {
         "text": "Shapley Values",
         "x": 0.15
        },
        "xaxis": {
         "anchor": "y",
         "automargin": true,
         "domain": [
          0,
          1
         ],
         "fixedrange": true,
         "gridwidth": 2,
         "range": [
          0.18151310415813476,
          0.7418131041581347
         ],
         "tickcolor": "white",
         "ticklen": 3,
         "ticks": "outside",
         "type": "linear",
         "zeroline": false
        },
        "yaxis": {
         "anchor": "x",
         "automargin": true,
         "autorange": "reversed",
         "domain": [
          0,
          1
         ],
         "fixedrange": true,
         "gridwidth": 2,
         "tickcolor": "white",
         "ticklen": 10,
         "ticks": "outside",
         "type": "category"
        }
       }
      }
     },
     "metadata": {},
     "output_type": "display_data"
    }
   ],
   "source": [
    "# Local explanation for female with low occupation (good original prediction)\n",
    "expl = explainer.predict_parts(female_tn_sample, type='shap')\n",
    "expl.plot()"
   ]
  },
  {
   "cell_type": "code",
   "execution_count": 39,
   "metadata": {},
   "outputs": [
    {
     "data": {
      "application/vnd.plotly.v1+json": {
       "config": {
        "displaylogo": false,
        "modeBarButtonsToRemove": [
         "sendDataToCloud",
         "lasso2d",
         "autoScale2d",
         "select2d",
         "zoom2d",
         "pan2d",
         "zoomIn2d",
         "zoomOut2d",
         "resetScale2d",
         "toggleSpikelines",
         "hoverCompareCartesian",
         "hoverClosestCartesian"
        ],
        "plotlyServerURL": "https://plot.ly",
        "staticPlot": false,
        "toImageButtonOptions": {
         "height": null,
         "width": null
        }
       },
       "data": [
        {
         "base": 0.5861631041581348,
         "connector": {
          "line": {
           "color": "#371ea3",
           "dash": "solid",
           "width": 1
          },
          "mode": "spanning"
         },
         "decreasing": {
          "marker": {
           "color": "#f05a71"
          }
         },
         "hoverinfo": "text+delta",
         "hoverlabel": {
          "bgcolor": "rgba(0,0,0,0.8)"
         },
         "hovertext": [
          "Average response: 0.586<br>Prediction: 0.957",
          "EducationLevel_6 = 0.0<br>increases average response by",
          "Age = 16.0<br>increases average response by",
          "CurEcoActivity_7 = 1.0<br>increases average response by",
          "EconomicStatus_3 = 1.0<br>increases average response by",
          "HouseholdPosition_4 = 1.0<br>increases average response by",
          "EconomicStatus_2 = 0.0<br>increases average response by",
          "MaritalStatus_1 = 1.0<br>increases average response by",
          "CurEcoActivity_5 = 0.0<br>increases average response by",
          "EducationLevel_5 = 0.0<br>increases average response by",
          "MaritalStatus_2 = 0.0<br>increases average response by",
          "+ all other factors<br>decreases average response by",
          "Average response: 0.586<br>Prediction: 0.957"
         ],
         "increasing": {
          "marker": {
           "color": "#8bdcbe"
          }
         },
         "measure": [
          "relative",
          "relative",
          "relative",
          "relative",
          "relative",
          "relative",
          "relative",
          "relative",
          "relative",
          "relative",
          "relative",
          "relative",
          "total"
         ],
         "orientation": "h",
         "showlegend": false,
         "text": [
          "0.586",
          "+0.157",
          "+0.062",
          "+0.047",
          "+0.033",
          "+0.018",
          "+0.034",
          "+0.009",
          "+0.007",
          "+0.001",
          "+0.01",
          "-0.007",
          "0.957"
         ],
         "textposition": "outside",
         "totals": {
          "marker": {
           "color": "#371ea3"
          }
         },
         "type": "waterfall",
         "x": [
          0,
          0.157,
          0.062,
          0.047,
          0.033,
          0.018,
          0.034,
          0.009,
          0.007,
          0.001,
          0.01,
          -0.007,
          0.371
         ],
         "xaxis": "x",
         "y": [
          "intercept",
          "EducationLevel_6 = 0.0",
          "Age = 16.0",
          "CurEcoActivity_7 = 1.0",
          "EconomicStatus_3 = 1.0",
          "HouseholdPosition_4 = 1.0",
          "EconomicStatus_2 = 0.0",
          "MaritalStatus_1 = 1.0",
          "CurEcoActivity_5 = 0.0",
          "EducationLevel_5 = 0.0",
          "MaritalStatus_2 = 0.0",
          "+ all other factors",
          "prediction"
         ],
         "yaxis": "y"
        }
       ],
       "layout": {
        "annotations": [
         {
          "font": {
           "size": 16
          },
          "showarrow": false,
          "text": "Classifier (fairlearn)",
          "x": 0.5,
          "xanchor": "center",
          "xref": "paper",
          "y": 1,
          "yanchor": "bottom",
          "yref": "paper"
         },
         {
          "font": {
           "size": 16
          },
          "showarrow": false,
          "text": "contribution",
          "x": 0.5,
          "xanchor": "center",
          "xref": "paper",
          "y": 0,
          "yanchor": "top",
          "yref": "paper",
          "yshift": -30
         }
        ],
        "font": {
         "color": "#371ea3"
        },
        "height": 413,
        "margin": {
         "b": 71,
         "r": 30,
         "t": 78
        },
        "shapes": [
         {
          "line": {
           "color": "#371ea3",
           "dash": "dot",
           "width": 1.5
          },
          "type": "line",
          "x0": 0.5861631041581348,
          "x1": 0.5861631041581348,
          "xref": "x",
          "y0": -1,
          "y1": 13,
          "yref": "y"
         }
        ],
        "template": {
         "data": {
          "scatter": [
           {
            "type": "scatter"
           }
          ]
         }
        },
        "title": {
         "text": "Break Down",
         "x": 0.15
        },
        "xaxis": {
         "anchor": "y",
         "automargin": true,
         "domain": [
          0,
          1
         ],
         "fixedrange": true,
         "gridwidth": 2,
         "range": [
          0.52915,
          1.02185
         ],
         "tickcolor": "white",
         "ticklen": 3,
         "ticks": "outside",
         "type": "linear",
         "zeroline": false
        },
        "yaxis": {
         "anchor": "x",
         "automargin": true,
         "autorange": "reversed",
         "domain": [
          0,
          1
         ],
         "fixedrange": true,
         "gridwidth": 2,
         "tickcolor": "white",
         "ticklen": 10,
         "ticks": "outside",
         "type": "category"
        }
       }
      }
     },
     "metadata": {},
     "output_type": "display_data"
    }
   ],
   "source": [
    "# Local explanation for male with high occupation (good original prediction)\n",
    "expl = explainer.predict_parts(male_tp_sample, type='break_down')\n",
    "expl.plot()"
   ]
  },
  {
   "cell_type": "code",
   "execution_count": 40,
   "metadata": {},
   "outputs": [
    {
     "data": {
      "application/vnd.plotly.v1+json": {
       "config": {
        "displaylogo": false,
        "modeBarButtonsToRemove": [
         "sendDataToCloud",
         "lasso2d",
         "autoScale2d",
         "select2d",
         "zoom2d",
         "pan2d",
         "zoomIn2d",
         "zoomOut2d",
         "resetScale2d",
         "toggleSpikelines",
         "hoverCompareCartesian",
         "hoverClosestCartesian"
        ],
        "plotlyServerURL": "https://plot.ly",
        "staticPlot": false,
        "toImageButtonOptions": {
         "height": null,
         "width": null
        }
       },
       "data": [
        {
         "base": 0.5861631041581348,
         "hoverinfo": "text",
         "hoverlabel": {
          "bgcolor": "rgba(0,0,0,0.8)"
         },
         "hovertext": [
          "Average response: 0.586<br>Prediction: 0.082<br>EducationLevel_6 = 1.0<br>decreases average response <br>by 0.312",
          "Average response: 0.586<br>Prediction: 0.082<br>Sex = 1.0<br>decreases average response <br>by 0.097",
          "Average response: 0.586<br>Prediction: 0.082<br>Age = 27.0<br>decreases average response <br>by 0.035",
          "Average response: 0.586<br>Prediction: 0.082<br>CurEcoActivity_2 = 1.0<br>decreases average response <br>by 0.021",
          "Average response: 0.586<br>Prediction: 0.082<br>EducationLevel_3 = 0.0<br>decreases average response <br>by 0.021",
          "Average response: 0.586<br>Prediction: 0.082<br>EconomicStatus_2 = 0.0<br>increases average response <br>by 0.016",
          "Average response: 0.586<br>Prediction: 0.082<br>EducationLevel_2 = 0.0<br>decreases average response <br>by 0.012",
          "Average response: 0.586<br>Prediction: 0.082<br>CurEcoActivity_5 = 0.0<br>increases average response <br>by 0.01",
          "Average response: 0.586<br>Prediction: 0.082<br>HouseholdPosition_4 = 0.0<br>decreases average response <br>by 0.009",
          "Average response: 0.586<br>Prediction: 0.082<br>+ all other factors<br>decreases average response <br>by 0.024"
         ],
         "marker": {
          "color": [
           "#f05a71",
           "#f05a71",
           "#f05a71",
           "#f05a71",
           "#f05a71",
           "#8bdcbe",
           "#f05a71",
           "#8bdcbe",
           "#f05a71",
           "#f05a71"
          ]
         },
         "orientation": "h",
         "showlegend": false,
         "text": [
          "-0.312",
          "-0.097",
          "-0.035",
          "-0.021",
          "-0.021",
          "+0.016",
          "-0.012",
          "+0.01",
          "-0.009",
          "-0.024"
         ],
         "textposition": "outside",
         "type": "bar",
         "x": [
          -0.312,
          -0.097,
          -0.035,
          -0.021,
          -0.021,
          0.016,
          -0.012,
          0.01,
          -0.009,
          -0.024
         ],
         "xaxis": "x",
         "y": [
          "EducationLevel_6 = 1.0",
          "Sex = 1.0",
          "Age = 27.0",
          "CurEcoActivity_2 = 1.0",
          "EducationLevel_3 = 0.0",
          "EconomicStatus_2 = 0.0",
          "EducationLevel_2 = 0.0",
          "CurEcoActivity_5 = 0.0",
          "HouseholdPosition_4 = 0.0",
          "+ all other factors"
         ],
         "yaxis": "y"
        }
       ],
       "layout": {
        "annotations": [
         {
          "font": {
           "size": 16
          },
          "showarrow": false,
          "text": "Classifier (fairlearn)",
          "x": 0.5,
          "xanchor": "center",
          "xref": "paper",
          "y": 1,
          "yanchor": "bottom",
          "yref": "paper"
         },
         {
          "font": {
           "size": 16
          },
          "showarrow": false,
          "text": "contribution",
          "x": 0.5,
          "xanchor": "center",
          "xref": "paper",
          "y": 0,
          "yanchor": "top",
          "yref": "paper",
          "yshift": -30
         }
        ],
        "font": {
         "color": "#371ea3"
        },
        "height": 373,
        "margin": {
         "b": 71,
         "r": 30,
         "t": 78
        },
        "shapes": [
         {
          "line": {
           "color": "#371ea3",
           "dash": "dot",
           "width": 1.5
          },
          "type": "line",
          "x0": 0.5861631041581348,
          "x1": 0.5861631041581348,
          "xref": "x",
          "y0": -1,
          "y1": 11,
          "yref": "y"
         }
        ],
        "template": {
         "data": {
          "scatter": [
           {
            "type": "scatter"
           }
          ]
         }
        },
        "title": {
         "text": "Shapley Values",
         "x": 0.15
        },
        "xaxis": {
         "anchor": "y",
         "automargin": true,
         "domain": [
          0,
          1
         ],
         "fixedrange": true,
         "gridwidth": 2,
         "range": [
          0.22496310415813478,
          0.6513631041581348
         ],
         "tickcolor": "white",
         "ticklen": 3,
         "ticks": "outside",
         "type": "linear",
         "zeroline": false
        },
        "yaxis": {
         "anchor": "x",
         "automargin": true,
         "autorange": "reversed",
         "domain": [
          0,
          1
         ],
         "fixedrange": true,
         "gridwidth": 2,
         "tickcolor": "white",
         "ticklen": 10,
         "ticks": "outside",
         "type": "category"
        }
       }
      }
     },
     "metadata": {},
     "output_type": "display_data"
    }
   ],
   "source": [
    "# Local explanation for male with low occupation (good original prediction)\n",
    "expl = explainer.predict_parts(male_tn_sample, type='shap')\n",
    "expl.plot()"
   ]
  },
  {
   "attachments": {},
   "cell_type": "markdown",
   "metadata": {},
   "source": [
    "## Exploring what-if scenarios"
   ]
  },
  {
   "attachments": {},
   "cell_type": "markdown",
   "metadata": {},
   "source": [
    "### Original classifer (sklearn)"
   ]
  },
  {
   "cell_type": "code",
   "execution_count": 41,
   "metadata": {},
   "outputs": [],
   "source": [
    "# Configure DiCE explainer\n",
    "df_train_dice = x_train.copy()\n",
    "df_train_dice['target'] = y_train\n",
    "features = df_train_dice.columns.to_list()\n",
    "features.remove('target')\n",
    "dice_data = dice_ml.Data(dataframe=df_train_dice,\n",
    "                continuous_features = features,\n",
    "                outcome_name='target')\n",
    "dice_model_sklearn = dice_ml.Model(model=model_sklearn, backend='sklearn', model_type='classifier')\n",
    "dice_explainer_sklearn = dice_ml.Dice(dice_data, dice_model_sklearn, method='random')"
   ]
  },
  {
   "cell_type": "code",
   "execution_count": 42,
   "metadata": {},
   "outputs": [],
   "source": [
    "# Configure some general parameters of the counterfactual generation process\n",
    "# Number of counterfactuals to generate\n",
    "num_cfs = 1\n",
    "\n",
    "# Features that can vary (exclude gender)\n",
    "features_to_vary = features.copy()\n",
    "features_to_vary.remove(gender_feat)"
   ]
  },
  {
   "cell_type": "code",
   "execution_count": 43,
   "metadata": {},
   "outputs": [
    {
     "name": "stderr",
     "output_type": "stream",
     "text": [
      "100%|██████████| 1/1 [00:00<00:00,  5.84it/s]\n",
      "100%|██████████| 1/1 [00:00<00:00,  5.93it/s]\n",
      "100%|██████████| 1/1 [00:00<00:00,  6.50it/s]\n",
      "100%|██████████| 1/1 [00:00<00:00,  6.00it/s]\n",
      "100%|██████████| 1/1 [00:00<00:00,  6.73it/s]\n",
      "100%|██████████| 1/1 [00:00<00:00,  6.26it/s]\n",
      "100%|██████████| 1/1 [00:00<00:00,  6.55it/s]\n",
      "100%|██████████| 1/1 [00:00<00:00,  6.02it/s]\n",
      "100%|██████████| 1/1 [00:00<00:00,  6.33it/s]\n",
      "100%|██████████| 1/1 [00:00<00:00,  6.41it/s]\n",
      "100%|██████████| 1/1 [00:00<00:00,  5.13it/s]\n",
      "100%|██████████| 1/1 [00:00<00:00,  6.23it/s]\n",
      "100%|██████████| 1/1 [00:00<00:00,  5.96it/s]\n",
      "100%|██████████| 1/1 [00:00<00:00,  5.91it/s]\n",
      "100%|██████████| 1/1 [00:00<00:00,  6.16it/s]\n",
      "100%|██████████| 1/1 [00:00<00:00,  4.96it/s]\n",
      "100%|██████████| 1/1 [00:00<00:00,  5.81it/s]\n",
      "100%|██████████| 1/1 [00:00<00:00,  6.04it/s]\n",
      "100%|██████████| 1/1 [00:00<00:00,  5.83it/s]\n",
      "100%|██████████| 1/1 [00:00<00:00,  6.68it/s]\n",
      "100%|██████████| 1/1 [00:00<00:00,  6.68it/s]\n",
      "100%|██████████| 1/1 [00:00<00:00,  6.56it/s]\n",
      "100%|██████████| 1/1 [00:00<00:00,  6.04it/s]\n",
      "100%|██████████| 1/1 [00:00<00:00,  6.07it/s]\n",
      "100%|██████████| 1/1 [00:00<00:00,  6.20it/s]\n",
      "100%|██████████| 1/1 [00:00<00:00,  5.79it/s]\n",
      "100%|██████████| 1/1 [00:00<00:00,  5.62it/s]\n",
      "100%|██████████| 1/1 [00:00<00:00,  5.73it/s]\n",
      "100%|██████████| 1/1 [00:00<00:00,  6.85it/s]\n",
      "100%|██████████| 1/1 [00:00<00:00,  6.11it/s]\n",
      "100%|██████████| 1/1 [00:00<00:00,  5.87it/s]\n",
      "100%|██████████| 1/1 [00:00<00:00,  6.69it/s]\n",
      "100%|██████████| 1/1 [00:00<00:00,  6.95it/s]\n",
      "100%|██████████| 1/1 [00:00<00:00,  6.32it/s]\n",
      "100%|██████████| 1/1 [00:00<00:00,  6.42it/s]\n",
      "100%|██████████| 1/1 [00:00<00:00,  6.04it/s]\n",
      "100%|██████████| 1/1 [00:00<00:00,  6.08it/s]\n",
      "100%|██████████| 1/1 [00:00<00:00,  6.29it/s]\n",
      "100%|██████████| 1/1 [00:00<00:00,  6.24it/s]\n",
      "100%|██████████| 1/1 [00:00<00:00,  6.27it/s]\n",
      "100%|██████████| 1/1 [00:00<00:00,  5.93it/s]\n",
      "100%|██████████| 1/1 [00:00<00:00,  5.71it/s]\n",
      "100%|██████████| 1/1 [00:00<00:00,  6.21it/s]\n",
      "100%|██████████| 1/1 [00:00<00:00,  6.12it/s]\n",
      "100%|██████████| 1/1 [00:00<00:00,  6.13it/s]\n",
      "100%|██████████| 1/1 [00:00<00:00,  6.00it/s]\n",
      "100%|██████████| 1/1 [00:00<00:00,  6.00it/s]\n",
      "100%|██████████| 1/1 [00:00<00:00,  5.85it/s]\n",
      "100%|██████████| 1/1 [00:00<00:00,  6.60it/s]\n",
      "100%|██████████| 1/1 [00:00<00:00,  5.91it/s]\n",
      "100%|██████████| 1/1 [00:00<00:00,  6.31it/s]\n",
      "100%|██████████| 1/1 [00:00<00:00,  6.82it/s]\n",
      "100%|██████████| 1/1 [00:00<00:00,  6.88it/s]\n",
      "100%|██████████| 1/1 [00:00<00:00,  5.73it/s]\n",
      "100%|██████████| 1/1 [00:00<00:00,  6.06it/s]\n",
      "100%|██████████| 1/1 [00:00<00:00,  5.78it/s]\n",
      "100%|██████████| 1/1 [00:00<00:00,  6.14it/s]\n",
      "100%|██████████| 1/1 [00:00<00:00,  6.16it/s]\n",
      "100%|██████████| 1/1 [00:00<00:00,  6.23it/s]\n",
      "100%|██████████| 1/1 [00:00<00:00,  6.25it/s]\n",
      "100%|██████████| 1/1 [00:00<00:00,  6.50it/s]\n",
      "100%|██████████| 1/1 [00:00<00:00,  6.33it/s]\n",
      "100%|██████████| 1/1 [00:00<00:00,  5.82it/s]\n",
      "100%|██████████| 1/1 [00:00<00:00,  6.45it/s]\n",
      "100%|██████████| 1/1 [00:00<00:00,  6.34it/s]\n",
      "100%|██████████| 1/1 [00:00<00:00,  6.27it/s]\n",
      "100%|██████████| 1/1 [00:00<00:00,  6.69it/s]\n",
      "100%|██████████| 1/1 [00:00<00:00,  6.42it/s]\n",
      "100%|██████████| 1/1 [00:00<00:00,  6.40it/s]\n",
      "100%|██████████| 1/1 [00:00<00:00,  6.53it/s]\n",
      "100%|██████████| 1/1 [00:00<00:00,  6.16it/s]\n",
      "100%|██████████| 1/1 [00:00<00:00,  5.81it/s]\n",
      "100%|██████████| 1/1 [00:00<00:00,  6.03it/s]\n",
      "100%|██████████| 1/1 [00:00<00:00,  6.34it/s]\n",
      "100%|██████████| 1/1 [00:00<00:00,  6.66it/s]\n",
      "100%|██████████| 1/1 [00:00<00:00,  5.72it/s]\n",
      "100%|██████████| 1/1 [00:00<00:00,  6.27it/s]\n",
      "100%|██████████| 1/1 [00:00<00:00,  6.25it/s]\n",
      "100%|██████████| 1/1 [00:00<00:00,  5.23it/s]\n",
      "100%|██████████| 1/1 [00:00<00:00,  6.21it/s]\n",
      "100%|██████████| 1/1 [00:00<00:00,  4.68it/s]\n",
      "100%|██████████| 1/1 [00:00<00:00,  6.11it/s]\n",
      "100%|██████████| 1/1 [00:00<00:00,  6.58it/s]\n",
      "100%|██████████| 1/1 [00:00<00:00,  5.93it/s]\n",
      "100%|██████████| 1/1 [00:00<00:00,  5.83it/s]\n",
      "100%|██████████| 1/1 [00:00<00:00,  6.31it/s]\n",
      "100%|██████████| 1/1 [00:00<00:00,  6.45it/s]\n",
      "100%|██████████| 1/1 [00:00<00:00,  6.77it/s]\n",
      "100%|██████████| 1/1 [00:00<00:00,  6.21it/s]\n",
      "100%|██████████| 1/1 [00:00<00:00,  6.55it/s]\n",
      "100%|██████████| 1/1 [00:00<00:00,  5.99it/s]\n",
      "100%|██████████| 1/1 [00:00<00:00,  5.61it/s]\n",
      "100%|██████████| 1/1 [00:00<00:00,  5.67it/s]\n",
      "100%|██████████| 1/1 [00:00<00:00,  6.70it/s]\n",
      "100%|██████████| 1/1 [00:00<00:00,  5.67it/s]\n",
      "100%|██████████| 1/1 [00:00<00:00,  6.08it/s]\n",
      "100%|██████████| 1/1 [00:00<00:00,  5.40it/s]\n",
      "100%|██████████| 1/1 [00:00<00:00,  5.91it/s]\n",
      "100%|██████████| 1/1 [00:00<00:00,  5.77it/s]\n",
      "100%|██████████| 1/1 [00:00<00:00,  6.14it/s]\n"
     ]
    },
    {
     "data": {
      "text/html": [
       "<div>\n",
       "<style scoped>\n",
       "    .dataframe tbody tr th:only-of-type {\n",
       "        vertical-align: middle;\n",
       "    }\n",
       "\n",
       "    .dataframe tbody tr th {\n",
       "        vertical-align: top;\n",
       "    }\n",
       "\n",
       "    .dataframe thead th {\n",
       "        text-align: right;\n",
       "    }\n",
       "</style>\n",
       "<table border=\"1\" class=\"dataframe\">\n",
       "  <thead>\n",
       "    <tr style=\"text-align: right;\">\n",
       "      <th></th>\n",
       "      <th>feature</th>\n",
       "      <th>num_changes</th>\n",
       "      <th>max_difference</th>\n",
       "    </tr>\n",
       "  </thead>\n",
       "  <tbody>\n",
       "    <tr>\n",
       "      <th>7</th>\n",
       "      <td>EducationLevel_6</td>\n",
       "      <td>38.0</td>\n",
       "      <td>-1.0</td>\n",
       "    </tr>\n",
       "    <tr>\n",
       "      <th>1</th>\n",
       "      <td>Age</td>\n",
       "      <td>22.0</td>\n",
       "      <td>40.0</td>\n",
       "    </tr>\n",
       "    <tr>\n",
       "      <th>34</th>\n",
       "      <td>CurEcoActivity_7</td>\n",
       "      <td>21.0</td>\n",
       "      <td>1.0</td>\n",
       "    </tr>\n",
       "    <tr>\n",
       "      <th>28</th>\n",
       "      <td>CurEcoActivity_1</td>\n",
       "      <td>15.0</td>\n",
       "      <td>1.0</td>\n",
       "    </tr>\n",
       "    <tr>\n",
       "      <th>35</th>\n",
       "      <td>CurEcoActivity_8</td>\n",
       "      <td>10.0</td>\n",
       "      <td>1.0</td>\n",
       "    </tr>\n",
       "    <tr>\n",
       "      <th>27</th>\n",
       "      <td>EconomicStatus_3</td>\n",
       "      <td>10.0</td>\n",
       "      <td>1.0</td>\n",
       "    </tr>\n",
       "    <tr>\n",
       "      <th>26</th>\n",
       "      <td>EconomicStatus_2</td>\n",
       "      <td>9.0</td>\n",
       "      <td>-1.0</td>\n",
       "    </tr>\n",
       "    <tr>\n",
       "      <th>4</th>\n",
       "      <td>EducationLevel_3</td>\n",
       "      <td>7.0</td>\n",
       "      <td>1.0</td>\n",
       "    </tr>\n",
       "    <tr>\n",
       "      <th>2</th>\n",
       "      <td>EducationLevel_1</td>\n",
       "      <td>6.0</td>\n",
       "      <td>1.0</td>\n",
       "    </tr>\n",
       "    <tr>\n",
       "      <th>3</th>\n",
       "      <td>EducationLevel_2</td>\n",
       "      <td>6.0</td>\n",
       "      <td>1.0</td>\n",
       "    </tr>\n",
       "  </tbody>\n",
       "</table>\n",
       "</div>"
      ],
      "text/plain": [
       "             feature  num_changes  max_difference\n",
       "7   EducationLevel_6         38.0            -1.0\n",
       "1                Age         22.0            40.0\n",
       "34  CurEcoActivity_7         21.0             1.0\n",
       "28  CurEcoActivity_1         15.0             1.0\n",
       "35  CurEcoActivity_8         10.0             1.0\n",
       "27  EconomicStatus_3         10.0             1.0\n",
       "26  EconomicStatus_2          9.0            -1.0\n",
       "4   EducationLevel_3          7.0             1.0\n",
       "2   EducationLevel_1          6.0             1.0\n",
       "3   EducationLevel_2          6.0             1.0"
      ]
     },
     "metadata": {},
     "output_type": "display_data"
    }
   ],
   "source": [
    "# Most frequently recommended feature changes for females with low occupation (based on 1 counterfactual per sample)\n",
    "num_samples = 100\n",
    "num_cfs = 1\n",
    "df_female_counterfactuals = pd.DataFrame(columns=df_tn.columns, data=[])\n",
    "df_female_samples = pd.DataFrame(columns=df_tn.columns, data=[])\n",
    "\n",
    "# Generate one counterfactual for each sample\n",
    "for i in range(1, num_samples+1):\n",
    "    female_sample = df_tn[df_tn[gender_feat]==0][i-1:i]\n",
    "    permitted_range = {'Age': [female_sample['Age'], 65]}\n",
    "    counterfactual = dice_explainer_sklearn.generate_counterfactuals(female_sample,\n",
    "                                  total_CFs=num_cfs,\n",
    "                                  permitted_range=permitted_range,\n",
    "                                  features_to_vary=features_to_vary,\n",
    "                                  random_seed=0,\n",
    "                                  verbose=False)\n",
    "    df_female_samples = pd.concat([df_female_samples, female_sample])\n",
    "    df_female_counterfactuals = pd.concat([df_female_counterfactuals, counterfactual.cf_examples_list[0].final_cfs_df])\n",
    "\n",
    "# Get summary\n",
    "female_cfs_summary = xai.get_summary_changes(df_female_samples, df_female_counterfactuals, num_cfs)\n",
    "display(female_cfs_summary.sort_values('num_changes', ascending=False).head(10))"
   ]
  },
  {
   "cell_type": "code",
   "execution_count": 44,
   "metadata": {},
   "outputs": [
    {
     "name": "stderr",
     "output_type": "stream",
     "text": [
      "100%|██████████| 1/1 [00:00<00:00,  4.59it/s]\n",
      "100%|██████████| 1/1 [00:00<00:00,  4.32it/s]\n",
      "100%|██████████| 1/1 [00:00<00:00,  6.03it/s]\n",
      "100%|██████████| 1/1 [00:00<00:00,  5.29it/s]\n",
      "100%|██████████| 1/1 [00:00<00:00,  4.54it/s]\n",
      "100%|██████████| 1/1 [00:00<00:00,  5.41it/s]\n",
      "100%|██████████| 1/1 [00:00<00:00,  5.85it/s]\n",
      "100%|██████████| 1/1 [00:00<00:00,  4.90it/s]\n",
      "100%|██████████| 1/1 [00:00<00:00,  5.67it/s]\n",
      "100%|██████████| 1/1 [00:00<00:00,  4.85it/s]\n",
      "100%|██████████| 1/1 [00:00<00:00,  5.58it/s]\n",
      "100%|██████████| 1/1 [00:00<00:00,  5.32it/s]\n",
      "100%|██████████| 1/1 [00:00<00:00,  5.31it/s]\n",
      "100%|██████████| 1/1 [00:00<00:00,  4.68it/s]\n",
      "100%|██████████| 1/1 [00:00<00:00,  4.99it/s]\n",
      "100%|██████████| 1/1 [00:00<00:00,  5.79it/s]\n",
      "100%|██████████| 1/1 [00:00<00:00,  5.58it/s]\n",
      "100%|██████████| 1/1 [00:00<00:00,  5.24it/s]\n",
      "100%|██████████| 1/1 [00:00<00:00,  5.68it/s]\n",
      "100%|██████████| 1/1 [00:00<00:00,  5.70it/s]\n",
      "100%|██████████| 1/1 [00:00<00:00,  5.60it/s]\n",
      "100%|██████████| 1/1 [00:00<00:00,  5.24it/s]\n",
      "100%|██████████| 1/1 [00:00<00:00,  5.69it/s]\n",
      "100%|██████████| 1/1 [00:00<00:00,  5.38it/s]\n",
      "100%|██████████| 1/1 [00:00<00:00,  5.04it/s]\n",
      "100%|██████████| 1/1 [00:00<00:00,  4.15it/s]\n",
      "100%|██████████| 1/1 [00:00<00:00,  5.89it/s]\n",
      "100%|██████████| 1/1 [00:00<00:00,  5.42it/s]\n",
      "100%|██████████| 1/1 [00:00<00:00,  5.70it/s]\n",
      "100%|██████████| 1/1 [00:00<00:00,  6.48it/s]\n",
      "100%|██████████| 1/1 [00:00<00:00,  5.07it/s]\n",
      "100%|██████████| 1/1 [00:00<00:00,  4.17it/s]\n",
      "100%|██████████| 1/1 [00:00<00:00,  5.13it/s]\n",
      "100%|██████████| 1/1 [00:00<00:00,  5.17it/s]\n",
      "100%|██████████| 1/1 [00:00<00:00,  4.60it/s]\n",
      "100%|██████████| 1/1 [00:00<00:00,  4.87it/s]\n",
      "100%|██████████| 1/1 [00:00<00:00,  6.33it/s]\n",
      "100%|██████████| 1/1 [00:00<00:00,  5.08it/s]\n",
      "100%|██████████| 1/1 [00:00<00:00,  4.87it/s]\n",
      "100%|██████████| 1/1 [00:00<00:00,  5.41it/s]\n",
      "100%|██████████| 1/1 [00:00<00:00,  5.17it/s]\n",
      "100%|██████████| 1/1 [00:00<00:00,  5.03it/s]\n",
      "100%|██████████| 1/1 [00:00<00:00,  5.73it/s]\n",
      "100%|██████████| 1/1 [00:00<00:00,  5.29it/s]\n",
      "100%|██████████| 1/1 [00:00<00:00,  5.65it/s]\n",
      "100%|██████████| 1/1 [00:00<00:00,  5.32it/s]\n",
      "100%|██████████| 1/1 [00:00<00:00,  4.76it/s]\n",
      "100%|██████████| 1/1 [00:00<00:00,  5.35it/s]\n",
      "100%|██████████| 1/1 [00:00<00:00,  4.98it/s]\n",
      "100%|██████████| 1/1 [00:00<00:00,  5.00it/s]\n",
      "100%|██████████| 1/1 [00:00<00:00,  5.73it/s]\n",
      "100%|██████████| 1/1 [00:00<00:00,  6.06it/s]\n",
      "100%|██████████| 1/1 [00:00<00:00,  3.91it/s]\n",
      "100%|██████████| 1/1 [00:00<00:00,  3.89it/s]\n",
      "100%|██████████| 1/1 [00:00<00:00,  4.91it/s]\n",
      "100%|██████████| 1/1 [00:00<00:00,  4.77it/s]\n",
      "100%|██████████| 1/1 [00:00<00:00,  5.13it/s]\n",
      "100%|██████████| 1/1 [00:00<00:00,  4.90it/s]\n",
      "100%|██████████| 1/1 [00:00<00:00,  4.94it/s]\n",
      "100%|██████████| 1/1 [00:00<00:00,  5.72it/s]\n",
      "100%|██████████| 1/1 [00:00<00:00,  6.58it/s]\n",
      "100%|██████████| 1/1 [00:00<00:00,  4.07it/s]\n",
      "100%|██████████| 1/1 [00:00<00:00,  6.03it/s]\n",
      "100%|██████████| 1/1 [00:00<00:00,  5.58it/s]\n",
      "100%|██████████| 1/1 [00:00<00:00,  5.66it/s]\n",
      "100%|██████████| 1/1 [00:00<00:00,  4.97it/s]\n",
      "100%|██████████| 1/1 [00:00<00:00,  5.31it/s]\n",
      "100%|██████████| 1/1 [00:00<00:00,  5.35it/s]\n",
      "100%|██████████| 1/1 [00:00<00:00,  5.12it/s]\n",
      "100%|██████████| 1/1 [00:00<00:00,  5.18it/s]\n",
      "100%|██████████| 1/1 [00:00<00:00,  4.76it/s]\n",
      "100%|██████████| 1/1 [00:00<00:00,  4.76it/s]\n",
      "100%|██████████| 1/1 [00:00<00:00,  5.78it/s]\n",
      "100%|██████████| 1/1 [00:00<00:00,  5.35it/s]\n",
      "100%|██████████| 1/1 [00:00<00:00,  5.23it/s]\n",
      "100%|██████████| 1/1 [00:00<00:00,  4.83it/s]\n",
      "100%|██████████| 1/1 [00:00<00:00,  5.76it/s]\n",
      "100%|██████████| 1/1 [00:00<00:00,  4.94it/s]\n",
      "100%|██████████| 1/1 [00:00<00:00,  5.45it/s]\n",
      "100%|██████████| 1/1 [00:00<00:00,  3.81it/s]\n",
      "100%|██████████| 1/1 [00:00<00:00,  5.56it/s]\n",
      "100%|██████████| 1/1 [00:00<00:00,  3.96it/s]\n",
      "100%|██████████| 1/1 [00:00<00:00,  5.56it/s]\n",
      "100%|██████████| 1/1 [00:00<00:00,  4.95it/s]\n",
      "100%|██████████| 1/1 [00:00<00:00,  5.15it/s]\n",
      "100%|██████████| 1/1 [00:00<00:00,  3.84it/s]\n",
      "100%|██████████| 1/1 [00:00<00:00,  4.87it/s]\n",
      "100%|██████████| 1/1 [00:00<00:00,  5.37it/s]\n",
      "100%|██████████| 1/1 [00:00<00:00,  4.31it/s]\n",
      "100%|██████████| 1/1 [00:00<00:00,  5.32it/s]\n",
      "100%|██████████| 1/1 [00:00<00:00,  5.64it/s]\n",
      "100%|██████████| 1/1 [00:00<00:00,  4.18it/s]\n",
      "100%|██████████| 1/1 [00:00<00:00,  5.25it/s]\n",
      "100%|██████████| 1/1 [00:00<00:00,  5.39it/s]\n",
      "100%|██████████| 1/1 [00:00<00:00,  5.44it/s]\n",
      "100%|██████████| 1/1 [00:00<00:00,  5.51it/s]\n",
      "100%|██████████| 1/1 [00:00<00:00,  5.37it/s]\n",
      "100%|██████████| 1/1 [00:00<00:00,  5.42it/s]\n",
      "100%|██████████| 1/1 [00:00<00:00,  5.33it/s]\n",
      "100%|██████████| 1/1 [00:00<00:00,  4.87it/s]\n"
     ]
    },
    {
     "data": {
      "text/html": [
       "<div>\n",
       "<style scoped>\n",
       "    .dataframe tbody tr th:only-of-type {\n",
       "        vertical-align: middle;\n",
       "    }\n",
       "\n",
       "    .dataframe tbody tr th {\n",
       "        vertical-align: top;\n",
       "    }\n",
       "\n",
       "    .dataframe thead th {\n",
       "        text-align: right;\n",
       "    }\n",
       "</style>\n",
       "<table border=\"1\" class=\"dataframe\">\n",
       "  <thead>\n",
       "    <tr style=\"text-align: right;\">\n",
       "      <th></th>\n",
       "      <th>feature</th>\n",
       "      <th>num_changes</th>\n",
       "      <th>max_difference</th>\n",
       "    </tr>\n",
       "  </thead>\n",
       "  <tbody>\n",
       "    <tr>\n",
       "      <th>7</th>\n",
       "      <td>EducationLevel_6</td>\n",
       "      <td>38.0</td>\n",
       "      <td>-1.0</td>\n",
       "    </tr>\n",
       "    <tr>\n",
       "      <th>1</th>\n",
       "      <td>Age</td>\n",
       "      <td>28.0</td>\n",
       "      <td>42.0</td>\n",
       "    </tr>\n",
       "    <tr>\n",
       "      <th>22</th>\n",
       "      <td>Country_1</td>\n",
       "      <td>20.0</td>\n",
       "      <td>-1.0</td>\n",
       "    </tr>\n",
       "    <tr>\n",
       "      <th>3</th>\n",
       "      <td>EducationLevel_2</td>\n",
       "      <td>15.0</td>\n",
       "      <td>1.0</td>\n",
       "    </tr>\n",
       "    <tr>\n",
       "      <th>27</th>\n",
       "      <td>EconomicStatus_3</td>\n",
       "      <td>14.0</td>\n",
       "      <td>1.0</td>\n",
       "    </tr>\n",
       "    <tr>\n",
       "      <th>4</th>\n",
       "      <td>EducationLevel_3</td>\n",
       "      <td>9.0</td>\n",
       "      <td>1.0</td>\n",
       "    </tr>\n",
       "    <tr>\n",
       "      <th>34</th>\n",
       "      <td>CurEcoActivity_7</td>\n",
       "      <td>9.0</td>\n",
       "      <td>1.0</td>\n",
       "    </tr>\n",
       "    <tr>\n",
       "      <th>21</th>\n",
       "      <td>HouseholdSize_6</td>\n",
       "      <td>6.0</td>\n",
       "      <td>1.0</td>\n",
       "    </tr>\n",
       "    <tr>\n",
       "      <th>14</th>\n",
       "      <td>HouseholdPosition_7</td>\n",
       "      <td>6.0</td>\n",
       "      <td>1.0</td>\n",
       "    </tr>\n",
       "    <tr>\n",
       "      <th>35</th>\n",
       "      <td>CurEcoActivity_8</td>\n",
       "      <td>5.0</td>\n",
       "      <td>1.0</td>\n",
       "    </tr>\n",
       "  </tbody>\n",
       "</table>\n",
       "</div>"
      ],
      "text/plain": [
       "                feature  num_changes  max_difference\n",
       "7      EducationLevel_6         38.0            -1.0\n",
       "1                   Age         28.0            42.0\n",
       "22            Country_1         20.0            -1.0\n",
       "3      EducationLevel_2         15.0             1.0\n",
       "27     EconomicStatus_3         14.0             1.0\n",
       "4      EducationLevel_3          9.0             1.0\n",
       "34     CurEcoActivity_7          9.0             1.0\n",
       "21      HouseholdSize_6          6.0             1.0\n",
       "14  HouseholdPosition_7          6.0             1.0\n",
       "35     CurEcoActivity_8          5.0             1.0"
      ]
     },
     "metadata": {},
     "output_type": "display_data"
    }
   ],
   "source": [
    "# Most frequently recommended feature changes for females with low occupation (based on 1 counterfactual per sample)\n",
    "df_male_counterfactuals = pd.DataFrame(columns=df_tn.columns, data=[])\n",
    "df_male_samples = pd.DataFrame(columns=df_tn.columns, data=[])\n",
    "\n",
    "# Generate one counterfactual for each sample\n",
    "for i in range(1, num_samples+1):\n",
    "    male_sample = df_tn[df_tn[gender_feat]==1][i-1:i]\n",
    "    permitted_range = {'Age': [male_sample['Age'], 65]}\n",
    "    counterfactual = dice_explainer_sklearn.generate_counterfactuals(male_sample,\n",
    "                                  total_CFs=num_cfs,\n",
    "                                  permitted_range=permitted_range,\n",
    "                                  features_to_vary=features_to_vary,\n",
    "                                  random_seed=0,\n",
    "                                  verbose=False)\n",
    "    df_male_samples = pd.concat([df_male_samples, male_sample])\n",
    "    df_male_counterfactuals = pd.concat([df_male_counterfactuals, counterfactual.cf_examples_list[0].final_cfs_df])\n",
    "\n",
    "# Get summary\n",
    "male_cfs_summary = xai.get_summary_changes(df_male_samples, df_male_counterfactuals, num_cfs)\n",
    "display(male_cfs_summary.sort_values('num_changes', ascending=False).head(10))"
   ]
  },
  {
   "attachments": {},
   "cell_type": "markdown",
   "metadata": {},
   "source": [
    "### Classifier with mitigation bias (fairlearn)"
   ]
  },
  {
   "cell_type": "code",
   "execution_count": 45,
   "metadata": {},
   "outputs": [],
   "source": [
    "# Configure DiCE explainer\n",
    "dice_model_fairlearn = dice_ml.Model(model=model_fairlearn_training, backend='sklearn', model_type='classifier')\n",
    "dice_explainer_fairlearn = dice_ml.Dice(dice_data, dice_model_fairlearn, method='random')"
   ]
  },
  {
   "cell_type": "code",
   "execution_count": 46,
   "metadata": {},
   "outputs": [
    {
     "name": "stderr",
     "output_type": "stream",
     "text": [
      "100%|██████████| 1/1 [00:00<00:00,  5.64it/s]\n",
      "100%|██████████| 1/1 [00:00<00:00,  5.56it/s]\n",
      "100%|██████████| 1/1 [00:00<00:00,  5.80it/s]\n",
      "100%|██████████| 1/1 [00:00<00:00,  5.95it/s]\n",
      "100%|██████████| 1/1 [00:00<00:00,  6.06it/s]\n",
      "100%|██████████| 1/1 [00:00<00:00,  6.12it/s]\n",
      "100%|██████████| 1/1 [00:00<00:00,  5.87it/s]\n",
      "100%|██████████| 1/1 [00:00<00:00,  6.45it/s]\n",
      "100%|██████████| 1/1 [00:00<00:00,  6.62it/s]\n",
      "100%|██████████| 1/1 [00:00<00:00,  5.57it/s]\n",
      "100%|██████████| 1/1 [00:00<00:00,  5.83it/s]\n",
      "100%|██████████| 1/1 [00:00<00:00,  5.98it/s]\n",
      "100%|██████████| 1/1 [00:00<00:00,  5.79it/s]\n",
      "100%|██████████| 1/1 [00:00<00:00,  5.63it/s]\n",
      "100%|██████████| 1/1 [00:00<00:00,  5.74it/s]\n",
      "100%|██████████| 1/1 [00:00<00:00,  6.10it/s]\n",
      "100%|██████████| 1/1 [00:00<00:00,  5.77it/s]\n",
      "100%|██████████| 1/1 [00:00<00:00,  5.95it/s]\n",
      "100%|██████████| 1/1 [00:00<00:00,  5.75it/s]\n",
      "100%|██████████| 1/1 [00:00<00:00,  6.16it/s]\n",
      "100%|██████████| 1/1 [00:00<00:00,  5.75it/s]\n",
      "100%|██████████| 1/1 [00:00<00:00,  5.63it/s]\n",
      "100%|██████████| 1/1 [00:00<00:00,  6.07it/s]\n",
      "100%|██████████| 1/1 [00:00<00:00,  6.34it/s]\n",
      "100%|██████████| 1/1 [00:00<00:00,  6.22it/s]\n",
      "100%|██████████| 1/1 [00:00<00:00,  6.15it/s]\n",
      "100%|██████████| 1/1 [00:00<00:00,  5.78it/s]\n",
      "100%|██████████| 1/1 [00:00<00:00,  6.56it/s]\n",
      "100%|██████████| 1/1 [00:00<00:00,  5.73it/s]\n",
      "100%|██████████| 1/1 [00:00<00:00,  5.59it/s]\n",
      "100%|██████████| 1/1 [00:00<00:00,  5.62it/s]\n",
      "100%|██████████| 1/1 [00:00<00:00,  6.84it/s]\n",
      "100%|██████████| 1/1 [00:00<00:00,  5.02it/s]\n",
      "100%|██████████| 1/1 [00:00<00:00,  6.12it/s]\n",
      "100%|██████████| 1/1 [00:00<00:00,  6.14it/s]\n",
      "100%|██████████| 1/1 [00:00<00:00,  6.00it/s]\n",
      "100%|██████████| 1/1 [00:00<00:00,  6.87it/s]\n",
      "100%|██████████| 1/1 [00:00<00:00,  5.96it/s]\n",
      "100%|██████████| 1/1 [00:00<00:00,  5.42it/s]\n",
      "100%|██████████| 1/1 [00:00<00:00,  5.40it/s]\n",
      "100%|██████████| 1/1 [00:00<00:00,  5.79it/s]\n",
      "100%|██████████| 1/1 [00:00<00:00,  6.01it/s]\n",
      "100%|██████████| 1/1 [00:00<00:00,  5.98it/s]\n",
      "100%|██████████| 1/1 [00:00<00:00,  6.34it/s]\n",
      "100%|██████████| 1/1 [00:00<00:00,  5.98it/s]\n",
      "100%|██████████| 1/1 [00:00<00:00,  5.78it/s]\n",
      "100%|██████████| 1/1 [00:00<00:00,  6.05it/s]\n",
      "100%|██████████| 1/1 [00:00<00:00,  5.95it/s]\n",
      "100%|██████████| 1/1 [00:00<00:00,  5.00it/s]\n",
      "100%|██████████| 1/1 [00:00<00:00,  6.21it/s]\n",
      "100%|██████████| 1/1 [00:00<00:00,  6.33it/s]\n",
      "100%|██████████| 1/1 [00:00<00:00,  5.76it/s]\n",
      "100%|██████████| 1/1 [00:00<00:00,  5.97it/s]\n",
      "100%|██████████| 1/1 [00:00<00:00,  5.48it/s]\n",
      "100%|██████████| 1/1 [00:00<00:00,  5.77it/s]\n",
      "100%|██████████| 1/1 [00:00<00:00,  5.47it/s]\n",
      "100%|██████████| 1/1 [00:00<00:00,  4.31it/s]\n",
      "100%|██████████| 1/1 [00:00<00:00,  5.80it/s]\n",
      "100%|██████████| 1/1 [00:00<00:00,  6.21it/s]\n",
      "100%|██████████| 1/1 [00:00<00:00,  5.97it/s]\n",
      "100%|██████████| 1/1 [00:00<00:00,  5.56it/s]\n",
      "100%|██████████| 1/1 [00:00<00:00,  5.89it/s]\n",
      "100%|██████████| 1/1 [00:00<00:00,  5.76it/s]\n",
      "100%|██████████| 1/1 [00:00<00:00,  5.43it/s]\n",
      "100%|██████████| 1/1 [00:00<00:00,  5.58it/s]\n",
      "100%|██████████| 1/1 [00:00<00:00,  5.57it/s]\n",
      "100%|██████████| 1/1 [00:00<00:00,  6.01it/s]\n",
      "100%|██████████| 1/1 [00:00<00:00,  6.37it/s]\n",
      "100%|██████████| 1/1 [00:00<00:00,  5.77it/s]\n",
      "100%|██████████| 1/1 [00:00<00:00,  6.22it/s]\n",
      "100%|██████████| 1/1 [00:00<00:00,  6.17it/s]\n",
      "100%|██████████| 1/1 [00:00<00:00,  6.29it/s]\n",
      "100%|██████████| 1/1 [00:00<00:00,  5.92it/s]\n",
      "100%|██████████| 1/1 [00:00<00:00,  5.93it/s]\n",
      "100%|██████████| 1/1 [00:00<00:00,  6.15it/s]\n",
      "100%|██████████| 1/1 [00:00<00:00,  5.76it/s]\n",
      "100%|██████████| 1/1 [00:00<00:00,  6.45it/s]\n",
      "100%|██████████| 1/1 [00:00<00:00,  5.52it/s]\n",
      "100%|██████████| 1/1 [00:00<00:00,  5.73it/s]\n",
      "100%|██████████| 1/1 [00:00<00:00,  5.32it/s]\n",
      "100%|██████████| 1/1 [00:00<00:00,  6.74it/s]\n",
      "100%|██████████| 1/1 [00:00<00:00,  5.84it/s]\n",
      "100%|██████████| 1/1 [00:00<00:00,  5.97it/s]\n",
      "100%|██████████| 1/1 [00:00<00:00,  6.56it/s]\n",
      "100%|██████████| 1/1 [00:00<00:00,  6.14it/s]\n",
      "100%|██████████| 1/1 [00:00<00:00,  5.72it/s]\n",
      "100%|██████████| 1/1 [00:00<00:00,  6.38it/s]\n",
      "100%|██████████| 1/1 [00:00<00:00,  4.67it/s]\n",
      "100%|██████████| 1/1 [00:00<00:00,  5.10it/s]\n",
      "100%|██████████| 1/1 [00:00<00:00,  6.25it/s]\n",
      "100%|██████████| 1/1 [00:00<00:00,  5.96it/s]\n",
      "100%|██████████| 1/1 [00:00<00:00,  4.78it/s]\n",
      "100%|██████████| 1/1 [00:00<00:00,  5.64it/s]\n",
      "100%|██████████| 1/1 [00:00<00:00,  5.97it/s]\n",
      "100%|██████████| 1/1 [00:00<00:00,  6.26it/s]\n",
      "100%|██████████| 1/1 [00:00<00:00,  5.86it/s]\n",
      "100%|██████████| 1/1 [00:00<00:00,  6.03it/s]\n",
      "100%|██████████| 1/1 [00:00<00:00,  5.96it/s]\n",
      "100%|██████████| 1/1 [00:00<00:00,  6.36it/s]\n",
      "100%|██████████| 1/1 [00:00<00:00,  5.94it/s]\n"
     ]
    },
    {
     "data": {
      "text/html": [
       "<div>\n",
       "<style scoped>\n",
       "    .dataframe tbody tr th:only-of-type {\n",
       "        vertical-align: middle;\n",
       "    }\n",
       "\n",
       "    .dataframe tbody tr th {\n",
       "        vertical-align: top;\n",
       "    }\n",
       "\n",
       "    .dataframe thead th {\n",
       "        text-align: right;\n",
       "    }\n",
       "</style>\n",
       "<table border=\"1\" class=\"dataframe\">\n",
       "  <thead>\n",
       "    <tr style=\"text-align: right;\">\n",
       "      <th></th>\n",
       "      <th>feature</th>\n",
       "      <th>num_changes</th>\n",
       "      <th>max_difference</th>\n",
       "    </tr>\n",
       "  </thead>\n",
       "  <tbody>\n",
       "    <tr>\n",
       "      <th>7</th>\n",
       "      <td>EducationLevel_6</td>\n",
       "      <td>39.0</td>\n",
       "      <td>-1.0</td>\n",
       "    </tr>\n",
       "    <tr>\n",
       "      <th>3</th>\n",
       "      <td>EducationLevel_2</td>\n",
       "      <td>15.0</td>\n",
       "      <td>1.0</td>\n",
       "    </tr>\n",
       "    <tr>\n",
       "      <th>1</th>\n",
       "      <td>Age</td>\n",
       "      <td>12.0</td>\n",
       "      <td>43.0</td>\n",
       "    </tr>\n",
       "    <tr>\n",
       "      <th>28</th>\n",
       "      <td>CurEcoActivity_1</td>\n",
       "      <td>8.0</td>\n",
       "      <td>1.0</td>\n",
       "    </tr>\n",
       "    <tr>\n",
       "      <th>27</th>\n",
       "      <td>EconomicStatus_3</td>\n",
       "      <td>8.0</td>\n",
       "      <td>1.0</td>\n",
       "    </tr>\n",
       "    <tr>\n",
       "      <th>35</th>\n",
       "      <td>CurEcoActivity_8</td>\n",
       "      <td>6.0</td>\n",
       "      <td>1.0</td>\n",
       "    </tr>\n",
       "    <tr>\n",
       "      <th>2</th>\n",
       "      <td>EducationLevel_1</td>\n",
       "      <td>6.0</td>\n",
       "      <td>1.0</td>\n",
       "    </tr>\n",
       "    <tr>\n",
       "      <th>34</th>\n",
       "      <td>CurEcoActivity_7</td>\n",
       "      <td>6.0</td>\n",
       "      <td>1.0</td>\n",
       "    </tr>\n",
       "    <tr>\n",
       "      <th>38</th>\n",
       "      <td>CurEcoActivity_11</td>\n",
       "      <td>6.0</td>\n",
       "      <td>1.0</td>\n",
       "    </tr>\n",
       "    <tr>\n",
       "      <th>26</th>\n",
       "      <td>EconomicStatus_2</td>\n",
       "      <td>5.0</td>\n",
       "      <td>-1.0</td>\n",
       "    </tr>\n",
       "  </tbody>\n",
       "</table>\n",
       "</div>"
      ],
      "text/plain": [
       "              feature  num_changes  max_difference\n",
       "7    EducationLevel_6         39.0            -1.0\n",
       "3    EducationLevel_2         15.0             1.0\n",
       "1                 Age         12.0            43.0\n",
       "28   CurEcoActivity_1          8.0             1.0\n",
       "27   EconomicStatus_3          8.0             1.0\n",
       "35   CurEcoActivity_8          6.0             1.0\n",
       "2    EducationLevel_1          6.0             1.0\n",
       "34   CurEcoActivity_7          6.0             1.0\n",
       "38  CurEcoActivity_11          6.0             1.0\n",
       "26   EconomicStatus_2          5.0            -1.0"
      ]
     },
     "metadata": {},
     "output_type": "display_data"
    }
   ],
   "source": [
    "# Most frequently recommended feature changes for females with low occupation (based on 1 counterfactual per sample)\n",
    "num_samples = 100\n",
    "num_cfs = 1\n",
    "df_female_counterfactuals = pd.DataFrame(columns=df_tn.columns, data=[])\n",
    "df_female_samples = pd.DataFrame(columns=df_tn.columns, data=[])\n",
    "\n",
    "# Generate one counterfactual for each sample\n",
    "for i in range(1, num_samples+1):\n",
    "    female_sample = df_tn[df_tn[gender_feat]==0][i-1:i]\n",
    "    permitted_range = {'Age': [female_sample['Age'], 65]}\n",
    "    counterfactual = dice_explainer_fairlearn.generate_counterfactuals(female_sample,\n",
    "                                  total_CFs=num_cfs,\n",
    "                                  permitted_range=permitted_range,\n",
    "                                  features_to_vary=features_to_vary,\n",
    "                                  random_seed=0,\n",
    "                                  verbose=False)\n",
    "    df_female_samples = pd.concat([df_female_samples, female_sample])\n",
    "    df_female_counterfactuals = pd.concat([df_female_counterfactuals, counterfactual.cf_examples_list[0].final_cfs_df])\n",
    "\n",
    "# Get summary\n",
    "female_cfs_summary = xai.get_summary_changes(df_female_samples, df_female_counterfactuals, num_cfs)\n",
    "display(female_cfs_summary.sort_values('num_changes', ascending=False).head(10))"
   ]
  },
  {
   "cell_type": "code",
   "execution_count": 47,
   "metadata": {},
   "outputs": [
    {
     "name": "stderr",
     "output_type": "stream",
     "text": [
      "100%|██████████| 1/1 [00:00<00:00,  5.70it/s]\n",
      "100%|██████████| 1/1 [00:00<00:00,  4.44it/s]\n",
      "100%|██████████| 1/1 [00:00<00:00,  6.05it/s]\n",
      "100%|██████████| 1/1 [00:00<00:00,  5.92it/s]\n",
      "100%|██████████| 1/1 [00:00<00:00,  5.54it/s]\n",
      "100%|██████████| 1/1 [00:00<00:00,  5.46it/s]\n",
      "100%|██████████| 1/1 [00:00<00:00,  4.91it/s]\n",
      "100%|██████████| 1/1 [00:00<00:00,  6.11it/s]\n",
      "100%|██████████| 1/1 [00:00<00:00,  5.99it/s]\n",
      "100%|██████████| 1/1 [00:00<00:00,  6.10it/s]\n",
      "100%|██████████| 1/1 [00:00<00:00,  5.89it/s]\n",
      "100%|██████████| 1/1 [00:00<00:00,  6.66it/s]\n",
      "100%|██████████| 1/1 [00:00<00:00,  5.80it/s]\n",
      "100%|██████████| 1/1 [00:00<00:00,  5.74it/s]\n",
      "100%|██████████| 1/1 [00:00<00:00,  5.75it/s]\n",
      "100%|██████████| 1/1 [00:00<00:00,  5.87it/s]\n",
      "100%|██████████| 1/1 [00:00<00:00,  6.42it/s]\n",
      "100%|██████████| 1/1 [00:00<00:00,  6.18it/s]\n",
      "100%|██████████| 1/1 [00:00<00:00,  6.82it/s]\n",
      "100%|██████████| 1/1 [00:00<00:00,  5.65it/s]\n",
      "100%|██████████| 1/1 [00:00<00:00,  5.89it/s]\n",
      "100%|██████████| 1/1 [00:00<00:00,  5.76it/s]\n",
      "100%|██████████| 1/1 [00:00<00:00,  5.97it/s]\n",
      "100%|██████████| 1/1 [00:00<00:00,  6.51it/s]\n",
      "100%|██████████| 1/1 [00:00<00:00,  6.13it/s]\n",
      "100%|██████████| 1/1 [00:00<00:00,  6.10it/s]\n",
      "100%|██████████| 1/1 [00:00<00:00,  6.68it/s]\n",
      "100%|██████████| 1/1 [00:00<00:00,  5.88it/s]\n",
      "100%|██████████| 1/1 [00:00<00:00,  6.26it/s]\n",
      "100%|██████████| 1/1 [00:00<00:00,  6.56it/s]\n",
      "100%|██████████| 1/1 [00:00<00:00,  6.57it/s]\n",
      "100%|██████████| 1/1 [00:00<00:00,  6.08it/s]\n",
      "100%|██████████| 1/1 [00:00<00:00,  6.45it/s]\n",
      "100%|██████████| 1/1 [00:00<00:00,  5.78it/s]\n",
      "100%|██████████| 1/1 [00:00<00:00,  5.76it/s]\n",
      "100%|██████████| 1/1 [00:00<00:00,  6.12it/s]\n",
      "100%|██████████| 1/1 [00:00<00:00,  6.06it/s]\n",
      "100%|██████████| 1/1 [00:00<00:00,  6.14it/s]\n",
      "100%|██████████| 1/1 [00:00<00:00,  5.85it/s]\n",
      "100%|██████████| 1/1 [00:00<00:00,  6.07it/s]\n",
      "100%|██████████| 1/1 [00:00<00:00,  6.13it/s]\n",
      "100%|██████████| 1/1 [00:00<00:00,  6.29it/s]\n",
      "100%|██████████| 1/1 [00:00<00:00,  6.21it/s]\n",
      "100%|██████████| 1/1 [00:00<00:00,  4.45it/s]\n",
      "100%|██████████| 1/1 [00:00<00:00,  6.54it/s]\n",
      "100%|██████████| 1/1 [00:00<00:00,  5.60it/s]\n",
      "100%|██████████| 1/1 [00:00<00:00,  6.01it/s]\n",
      "100%|██████████| 1/1 [00:00<00:00,  5.77it/s]\n",
      "100%|██████████| 1/1 [00:00<00:00,  5.69it/s]\n",
      "100%|██████████| 1/1 [00:00<00:00,  5.74it/s]\n",
      "100%|██████████| 1/1 [00:00<00:00,  5.95it/s]\n",
      "100%|██████████| 1/1 [00:00<00:00,  5.66it/s]\n",
      "100%|██████████| 1/1 [00:00<00:00,  4.33it/s]\n",
      "100%|██████████| 1/1 [00:00<00:00,  5.58it/s]\n",
      "100%|██████████| 1/1 [00:00<00:00,  6.25it/s]\n",
      "100%|██████████| 1/1 [00:00<00:00,  6.05it/s]\n",
      "100%|██████████| 1/1 [00:00<00:00,  5.65it/s]\n",
      "100%|██████████| 1/1 [00:00<00:00,  5.85it/s]\n",
      "100%|██████████| 1/1 [00:00<00:00,  6.02it/s]\n",
      "100%|██████████| 1/1 [00:00<00:00,  6.19it/s]\n",
      "100%|██████████| 1/1 [00:00<00:00,  6.33it/s]\n",
      "100%|██████████| 1/1 [00:00<00:00,  5.81it/s]\n",
      "100%|██████████| 1/1 [00:00<00:00,  6.17it/s]\n",
      "100%|██████████| 1/1 [00:00<00:00,  5.98it/s]\n",
      "100%|██████████| 1/1 [00:00<00:00,  6.43it/s]\n",
      "100%|██████████| 1/1 [00:00<00:00,  6.21it/s]\n",
      "100%|██████████| 1/1 [00:00<00:00,  6.13it/s]\n",
      "100%|██████████| 1/1 [00:00<00:00,  6.17it/s]\n",
      "100%|██████████| 1/1 [00:00<00:00,  5.74it/s]\n",
      "100%|██████████| 1/1 [00:00<00:00,  5.88it/s]\n",
      "100%|██████████| 1/1 [00:00<00:00,  6.45it/s]\n",
      "100%|██████████| 1/1 [00:00<00:00,  6.51it/s]\n",
      "100%|██████████| 1/1 [00:00<00:00,  6.06it/s]\n",
      "100%|██████████| 1/1 [00:00<00:00,  6.04it/s]\n",
      "100%|██████████| 1/1 [00:00<00:00,  5.84it/s]\n",
      "100%|██████████| 1/1 [00:00<00:00,  5.78it/s]\n",
      "100%|██████████| 1/1 [00:00<00:00,  5.68it/s]\n",
      "100%|██████████| 1/1 [00:00<00:00,  5.82it/s]\n",
      "100%|██████████| 1/1 [00:00<00:00,  6.49it/s]\n",
      "100%|██████████| 1/1 [00:00<00:00,  4.60it/s]\n",
      "100%|██████████| 1/1 [00:00<00:00,  6.02it/s]\n",
      "100%|██████████| 1/1 [00:00<00:00,  4.56it/s]\n",
      "100%|██████████| 1/1 [00:00<00:00,  5.62it/s]\n",
      "100%|██████████| 1/1 [00:00<00:00,  5.60it/s]\n",
      "100%|██████████| 1/1 [00:00<00:00,  5.58it/s]\n",
      "100%|██████████| 1/1 [00:00<00:00,  4.83it/s]\n",
      "100%|██████████| 1/1 [00:00<00:00,  4.57it/s]\n",
      "100%|██████████| 1/1 [00:00<00:00,  5.62it/s]\n",
      "100%|██████████| 1/1 [00:00<00:00,  5.75it/s]\n",
      "100%|██████████| 1/1 [00:00<00:00,  5.58it/s]\n",
      "100%|██████████| 1/1 [00:00<00:00,  6.37it/s]\n",
      "100%|██████████| 1/1 [00:00<00:00,  6.21it/s]\n",
      "100%|██████████| 1/1 [00:00<00:00,  5.92it/s]\n",
      "100%|██████████| 1/1 [00:00<00:00,  6.18it/s]\n",
      "100%|██████████| 1/1 [00:00<00:00,  6.62it/s]\n",
      "100%|██████████| 1/1 [00:00<00:00,  5.81it/s]\n",
      "100%|██████████| 1/1 [00:00<00:00,  5.95it/s]\n",
      "100%|██████████| 1/1 [00:00<00:00,  6.23it/s]\n",
      "100%|██████████| 1/1 [00:00<00:00,  5.80it/s]\n",
      "100%|██████████| 1/1 [00:00<00:00,  6.63it/s]\n"
     ]
    },
    {
     "data": {
      "text/html": [
       "<div>\n",
       "<style scoped>\n",
       "    .dataframe tbody tr th:only-of-type {\n",
       "        vertical-align: middle;\n",
       "    }\n",
       "\n",
       "    .dataframe tbody tr th {\n",
       "        vertical-align: top;\n",
       "    }\n",
       "\n",
       "    .dataframe thead th {\n",
       "        text-align: right;\n",
       "    }\n",
       "</style>\n",
       "<table border=\"1\" class=\"dataframe\">\n",
       "  <thead>\n",
       "    <tr style=\"text-align: right;\">\n",
       "      <th></th>\n",
       "      <th>feature</th>\n",
       "      <th>num_changes</th>\n",
       "      <th>max_difference</th>\n",
       "    </tr>\n",
       "  </thead>\n",
       "  <tbody>\n",
       "    <tr>\n",
       "      <th>7</th>\n",
       "      <td>EducationLevel_6</td>\n",
       "      <td>59.0</td>\n",
       "      <td>-1.0</td>\n",
       "    </tr>\n",
       "    <tr>\n",
       "      <th>26</th>\n",
       "      <td>EconomicStatus_2</td>\n",
       "      <td>13.0</td>\n",
       "      <td>-1.0</td>\n",
       "    </tr>\n",
       "    <tr>\n",
       "      <th>39</th>\n",
       "      <td>CurEcoActivity_12</td>\n",
       "      <td>7.0</td>\n",
       "      <td>-1.0</td>\n",
       "    </tr>\n",
       "    <tr>\n",
       "      <th>1</th>\n",
       "      <td>Age</td>\n",
       "      <td>7.0</td>\n",
       "      <td>38.0</td>\n",
       "    </tr>\n",
       "    <tr>\n",
       "      <th>4</th>\n",
       "      <td>EducationLevel_3</td>\n",
       "      <td>6.0</td>\n",
       "      <td>1.0</td>\n",
       "    </tr>\n",
       "    <tr>\n",
       "      <th>2</th>\n",
       "      <td>EducationLevel_1</td>\n",
       "      <td>4.0</td>\n",
       "      <td>1.0</td>\n",
       "    </tr>\n",
       "    <tr>\n",
       "      <th>40</th>\n",
       "      <td>MaritalStatus_1</td>\n",
       "      <td>4.0</td>\n",
       "      <td>1.0</td>\n",
       "    </tr>\n",
       "    <tr>\n",
       "      <th>38</th>\n",
       "      <td>CurEcoActivity_11</td>\n",
       "      <td>4.0</td>\n",
       "      <td>1.0</td>\n",
       "    </tr>\n",
       "    <tr>\n",
       "      <th>34</th>\n",
       "      <td>CurEcoActivity_7</td>\n",
       "      <td>3.0</td>\n",
       "      <td>1.0</td>\n",
       "    </tr>\n",
       "    <tr>\n",
       "      <th>28</th>\n",
       "      <td>CurEcoActivity_1</td>\n",
       "      <td>3.0</td>\n",
       "      <td>1.0</td>\n",
       "    </tr>\n",
       "  </tbody>\n",
       "</table>\n",
       "</div>"
      ],
      "text/plain": [
       "              feature  num_changes  max_difference\n",
       "7    EducationLevel_6         59.0            -1.0\n",
       "26   EconomicStatus_2         13.0            -1.0\n",
       "39  CurEcoActivity_12          7.0            -1.0\n",
       "1                 Age          7.0            38.0\n",
       "4    EducationLevel_3          6.0             1.0\n",
       "2    EducationLevel_1          4.0             1.0\n",
       "40    MaritalStatus_1          4.0             1.0\n",
       "38  CurEcoActivity_11          4.0             1.0\n",
       "34   CurEcoActivity_7          3.0             1.0\n",
       "28   CurEcoActivity_1          3.0             1.0"
      ]
     },
     "metadata": {},
     "output_type": "display_data"
    }
   ],
   "source": [
    "# Most frequently recommended feature changes for females with low occupation (based on 1 counterfactual per sample)\n",
    "df_male_counterfactuals = pd.DataFrame(columns=df_tn.columns, data=[])\n",
    "df_male_samples = pd.DataFrame(columns=df_tn.columns, data=[])\n",
    "\n",
    "# Generate one counterfactual for each sample\n",
    "for i in range(1, num_samples+1):\n",
    "    male_sample = df_tn[df_tn[gender_feat]==1][i-1:i]\n",
    "    permitted_range = {'Age': [male_sample['Age'], 65]}\n",
    "    counterfactual = dice_explainer_fairlearn.generate_counterfactuals(male_sample,\n",
    "                                  total_CFs=num_cfs,\n",
    "                                  permitted_range=permitted_range,\n",
    "                                  features_to_vary=features_to_vary,\n",
    "                                  random_seed=0,\n",
    "                                  verbose=False)\n",
    "    df_male_samples = pd.concat([df_male_samples, male_sample])\n",
    "    df_male_counterfactuals = pd.concat([df_male_counterfactuals, counterfactual.cf_examples_list[0].final_cfs_df])\n",
    "\n",
    "# Get summary\n",
    "male_cfs_summary = xai.get_summary_changes(df_male_samples, df_male_counterfactuals, num_cfs)\n",
    "display(male_cfs_summary.sort_values('num_changes', ascending=False).head(10))"
   ]
  }
 ],
 "metadata": {
  "kernelspec": {
   "display_name": "venv",
   "language": "python",
   "name": "python3"
  },
  "language_info": {
   "codemirror_mode": {
    "name": "ipython",
    "version": 3
   },
   "file_extension": ".py",
   "mimetype": "text/x-python",
   "name": "python",
   "nbconvert_exporter": "python",
   "pygments_lexer": "ipython3",
   "version": "3.10.2"
  },
  "orig_nbformat": 4
 },
 "nbformat": 4,
 "nbformat_minor": 2
}
